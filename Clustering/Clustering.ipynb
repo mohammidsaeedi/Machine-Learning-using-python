{
  "nbformat": 4,
  "nbformat_minor": 0,
  "metadata": {
    "colab": {
      "name": "Clustering.ipynb",
      "provenance": []
    },
    "kernelspec": {
      "name": "python3",
      "display_name": "Python 3"
    },
    "language_info": {
      "name": "python"
    }
  },
  "cells": [
    {
      "cell_type": "code",
      "metadata": {
        "id": "HvQ9V4kOl8be"
      },
      "source": [
        "import pandas as pd \n",
        "import numpy as np\n",
        "import matplotlib.pyplot as plt"
      ],
      "execution_count": 2,
      "outputs": []
    },
    {
      "cell_type": "code",
      "metadata": {
        "colab": {
          "base_uri": "https://localhost:8080/"
        },
        "id": "OtDo9_XAmOQs",
        "outputId": "2a465046-75c7-4ba9-ed39-66843e308624"
      },
      "source": [
        "# read the dataset\n",
        "data = pd.read_excel('algerian_forest_fire.xlsx')\n",
        "print(data.head(),'\\n \\n data shape:',data.shape)"
      ],
      "execution_count": 3,
      "outputs": [
        {
          "output_type": "stream",
          "name": "stdout",
          "text": [
            "   day  month  year  Temperature   RH   Ws  ...  DMC    DC  ISI  BUI  FWI  y\n",
            "0    1      6  2012           29   57   18  ...  3.4   7.6  1.3  3.4  0.5  0\n",
            "1    2      6  2012           29   61   13  ...  4.1   7.6  1.0  3.9  0.4  0\n",
            "2    3      6  2012           26   82   22  ...  2.5   7.1  0.3  2.7  0.1  0\n",
            "3    4      6  2012           25   89   13  ...  1.3   6.9  0.0  1.7  0.0  0\n",
            "4    5      6  2012           27   77   16  ...  3.0  14.2  1.2  3.9  0.5  0\n",
            "\n",
            "[5 rows x 14 columns] \n",
            " \n",
            " data shape: (122, 14)\n"
          ]
        }
      ]
    },
    {
      "cell_type": "markdown",
      "metadata": {
        "id": "L6_jCndgQrKc"
      },
      "source": [
        "data processing"
      ]
    },
    {
      "cell_type": "code",
      "metadata": {
        "colab": {
          "base_uri": "https://localhost:8080/"
        },
        "id": "J3yMOwcGm64m",
        "outputId": "c805fd33-fe02-44b2-ef09-b35ffe072de6"
      },
      "source": [
        "duplicate = data[data.duplicated()]\n",
        "print(\"Dublicate Roes :\",duplicate)"
      ],
      "execution_count": 4,
      "outputs": [
        {
          "output_type": "stream",
          "name": "stdout",
          "text": [
            "Dublicate Roes : Empty DataFrame\n",
            "Columns: [day, month, year, Temperature,  RH,  Ws, Rain , FFMC, DMC, DC, ISI, BUI, FWI, y]\n",
            "Index: []\n"
          ]
        }
      ]
    },
    {
      "cell_type": "code",
      "metadata": {
        "colab": {
          "base_uri": "https://localhost:8080/"
        },
        "id": "yFltcVO2npBV",
        "outputId": "056b95d6-8453-4090-f03d-0214c6629512"
      },
      "source": [
        "data.isnull().sum().sum()"
      ],
      "execution_count": 5,
      "outputs": [
        {
          "output_type": "execute_result",
          "data": {
            "text/plain": [
              "0"
            ]
          },
          "metadata": {},
          "execution_count": 5
        }
      ]
    },
    {
      "cell_type": "code",
      "metadata": {
        "colab": {
          "base_uri": "https://localhost:8080/",
          "height": 300
        },
        "id": "0y2ToflXq46e",
        "outputId": "f8f23fb6-e6c7-4b59-bf00-33e65486d828"
      },
      "source": [
        "data.describe()"
      ],
      "execution_count": 6,
      "outputs": [
        {
          "output_type": "execute_result",
          "data": {
            "text/html": [
              "<div>\n",
              "<style scoped>\n",
              "    .dataframe tbody tr th:only-of-type {\n",
              "        vertical-align: middle;\n",
              "    }\n",
              "\n",
              "    .dataframe tbody tr th {\n",
              "        vertical-align: top;\n",
              "    }\n",
              "\n",
              "    .dataframe thead th {\n",
              "        text-align: right;\n",
              "    }\n",
              "</style>\n",
              "<table border=\"1\" class=\"dataframe\">\n",
              "  <thead>\n",
              "    <tr style=\"text-align: right;\">\n",
              "      <th></th>\n",
              "      <th>day</th>\n",
              "      <th>month</th>\n",
              "      <th>year</th>\n",
              "      <th>Temperature</th>\n",
              "      <th>RH</th>\n",
              "      <th>Ws</th>\n",
              "      <th>Rain</th>\n",
              "      <th>FFMC</th>\n",
              "      <th>DMC</th>\n",
              "      <th>DC</th>\n",
              "      <th>ISI</th>\n",
              "      <th>BUI</th>\n",
              "      <th>FWI</th>\n",
              "      <th>y</th>\n",
              "    </tr>\n",
              "  </thead>\n",
              "  <tbody>\n",
              "    <tr>\n",
              "      <th>count</th>\n",
              "      <td>122.000000</td>\n",
              "      <td>122.000000</td>\n",
              "      <td>122.0</td>\n",
              "      <td>122.000000</td>\n",
              "      <td>122.000000</td>\n",
              "      <td>122.000000</td>\n",
              "      <td>122.000000</td>\n",
              "      <td>122.000000</td>\n",
              "      <td>122.000000</td>\n",
              "      <td>122.000000</td>\n",
              "      <td>122.000000</td>\n",
              "      <td>122.000000</td>\n",
              "      <td>122.000000</td>\n",
              "      <td>122.000000</td>\n",
              "    </tr>\n",
              "    <tr>\n",
              "      <th>mean</th>\n",
              "      <td>15.754098</td>\n",
              "      <td>7.500000</td>\n",
              "      <td>2012.0</td>\n",
              "      <td>31.180328</td>\n",
              "      <td>67.975410</td>\n",
              "      <td>16.000000</td>\n",
              "      <td>0.842623</td>\n",
              "      <td>74.672951</td>\n",
              "      <td>12.314754</td>\n",
              "      <td>53.160656</td>\n",
              "      <td>3.655738</td>\n",
              "      <td>15.426230</td>\n",
              "      <td>5.577869</td>\n",
              "      <td>0.483607</td>\n",
              "    </tr>\n",
              "    <tr>\n",
              "      <th>std</th>\n",
              "      <td>8.843274</td>\n",
              "      <td>1.115259</td>\n",
              "      <td>0.0</td>\n",
              "      <td>3.320401</td>\n",
              "      <td>11.154411</td>\n",
              "      <td>2.848807</td>\n",
              "      <td>2.409208</td>\n",
              "      <td>15.558713</td>\n",
              "      <td>11.274360</td>\n",
              "      <td>51.778265</td>\n",
              "      <td>3.021768</td>\n",
              "      <td>14.474302</td>\n",
              "      <td>6.343051</td>\n",
              "      <td>0.501792</td>\n",
              "    </tr>\n",
              "    <tr>\n",
              "      <th>min</th>\n",
              "      <td>1.000000</td>\n",
              "      <td>6.000000</td>\n",
              "      <td>2012.0</td>\n",
              "      <td>22.000000</td>\n",
              "      <td>45.000000</td>\n",
              "      <td>11.000000</td>\n",
              "      <td>0.000000</td>\n",
              "      <td>28.600000</td>\n",
              "      <td>0.700000</td>\n",
              "      <td>6.900000</td>\n",
              "      <td>0.000000</td>\n",
              "      <td>1.100000</td>\n",
              "      <td>0.000000</td>\n",
              "      <td>0.000000</td>\n",
              "    </tr>\n",
              "    <tr>\n",
              "      <th>25%</th>\n",
              "      <td>8.000000</td>\n",
              "      <td>7.000000</td>\n",
              "      <td>2012.0</td>\n",
              "      <td>29.000000</td>\n",
              "      <td>60.000000</td>\n",
              "      <td>14.000000</td>\n",
              "      <td>0.000000</td>\n",
              "      <td>65.925000</td>\n",
              "      <td>3.725000</td>\n",
              "      <td>10.050000</td>\n",
              "      <td>1.125000</td>\n",
              "      <td>5.100000</td>\n",
              "      <td>0.500000</td>\n",
              "      <td>0.000000</td>\n",
              "    </tr>\n",
              "    <tr>\n",
              "      <th>50%</th>\n",
              "      <td>16.000000</td>\n",
              "      <td>7.500000</td>\n",
              "      <td>2012.0</td>\n",
              "      <td>31.000000</td>\n",
              "      <td>68.000000</td>\n",
              "      <td>16.000000</td>\n",
              "      <td>0.000000</td>\n",
              "      <td>80.900000</td>\n",
              "      <td>9.450000</td>\n",
              "      <td>35.550000</td>\n",
              "      <td>2.650000</td>\n",
              "      <td>11.200000</td>\n",
              "      <td>3.000000</td>\n",
              "      <td>0.000000</td>\n",
              "    </tr>\n",
              "    <tr>\n",
              "      <th>75%</th>\n",
              "      <td>23.000000</td>\n",
              "      <td>8.000000</td>\n",
              "      <td>2012.0</td>\n",
              "      <td>34.000000</td>\n",
              "      <td>77.750000</td>\n",
              "      <td>18.000000</td>\n",
              "      <td>0.500000</td>\n",
              "      <td>86.775000</td>\n",
              "      <td>16.300000</td>\n",
              "      <td>79.025000</td>\n",
              "      <td>5.600000</td>\n",
              "      <td>21.675000</td>\n",
              "      <td>8.700000</td>\n",
              "      <td>1.000000</td>\n",
              "    </tr>\n",
              "    <tr>\n",
              "      <th>max</th>\n",
              "      <td>31.000000</td>\n",
              "      <td>9.000000</td>\n",
              "      <td>2012.0</td>\n",
              "      <td>37.000000</td>\n",
              "      <td>89.000000</td>\n",
              "      <td>26.000000</td>\n",
              "      <td>16.800000</td>\n",
              "      <td>90.300000</td>\n",
              "      <td>54.200000</td>\n",
              "      <td>220.400000</td>\n",
              "      <td>12.500000</td>\n",
              "      <td>67.400000</td>\n",
              "      <td>30.200000</td>\n",
              "      <td>1.000000</td>\n",
              "    </tr>\n",
              "  </tbody>\n",
              "</table>\n",
              "</div>"
            ],
            "text/plain": [
              "              day       month    year  ...         BUI         FWI           y\n",
              "count  122.000000  122.000000   122.0  ...  122.000000  122.000000  122.000000\n",
              "mean    15.754098    7.500000  2012.0  ...   15.426230    5.577869    0.483607\n",
              "std      8.843274    1.115259     0.0  ...   14.474302    6.343051    0.501792\n",
              "min      1.000000    6.000000  2012.0  ...    1.100000    0.000000    0.000000\n",
              "25%      8.000000    7.000000  2012.0  ...    5.100000    0.500000    0.000000\n",
              "50%     16.000000    7.500000  2012.0  ...   11.200000    3.000000    0.000000\n",
              "75%     23.000000    8.000000  2012.0  ...   21.675000    8.700000    1.000000\n",
              "max     31.000000    9.000000  2012.0  ...   67.400000   30.200000    1.000000\n",
              "\n",
              "[8 rows x 14 columns]"
            ]
          },
          "metadata": {},
          "execution_count": 6
        }
      ]
    },
    {
      "cell_type": "code",
      "metadata": {
        "colab": {
          "base_uri": "https://localhost:8080/",
          "height": 282
        },
        "id": "ZbhTN9CfoAJV",
        "outputId": "d644a919-cc02-42f5-a56c-48bfa4c2499c"
      },
      "source": [
        "# create scatter plot\n",
        "plt.scatter(data['DMC'], data['Temperature'], c=data['DMC'], cmap='viridis')\n"
      ],
      "execution_count": 7,
      "outputs": [
        {
          "output_type": "execute_result",
          "data": {
            "text/plain": [
              "<matplotlib.collections.PathCollection at 0x7f70e49f3b10>"
            ]
          },
          "metadata": {},
          "execution_count": 7
        },
        {
          "output_type": "display_data",
          "data": {
            "image/png": "[encoded data removed]",
            "text/plain": [
              "<Figure size 432x288 with 1 Axes>"
            ]
          },
          "metadata": {
            "needs_background": "light"
          }
        }
      ]
    },
    {
      "cell_type": "code",
      "metadata": {
        "id": "fR2BPNaQo2-8"
      },
      "source": [
        "from sklearn.preprocessing import MinMaxScaler\n",
        "scaler = MinMaxScaler()\n",
        "F1 = scaler.fit_transform(data[['Temperature']]) \n",
        "D1 = scaler.fit_transform(data[['DMC']])"
      ],
      "execution_count": 8,
      "outputs": []
    },
    {
      "cell_type": "code",
      "metadata": {
        "colab": {
          "base_uri": "https://localhost:8080/",
          "height": 282
        },
        "id": "kbzcjOIupyni",
        "outputId": "77f6c40d-38f9-48c6-c54a-82b9327776e0"
      },
      "source": [
        "plt.scatter(D1, F1, cmap='viridis')"
      ],
      "execution_count": 9,
      "outputs": [
        {
          "output_type": "execute_result",
          "data": {
            "text/plain": [
              "<matplotlib.collections.PathCollection at 0x7f70e4a35310>"
            ]
          },
          "metadata": {},
          "execution_count": 9
        },
        {
          "output_type": "display_data",
          "data": {
            "image/png": "[encoded data removed]",
            "text/plain": [
              "<Figure size 432x288 with 1 Axes>"
            ]
          },
          "metadata": {
            "needs_background": "light"
          }
        }
      ]
    },
    {
      "cell_type": "code",
      "metadata": {
        "colab": {
          "base_uri": "https://localhost:8080/"
        },
        "id": "RW1vDebHtriJ",
        "outputId": "9cf19dcb-565a-4e3b-908f-1d8abaa0ebd4"
      },
      "source": [
        "# import KMeans\n",
        "from sklearn.cluster import KMeans\n",
        "# create kmeans object\n",
        "kmeans = KMeans(n_clusters=4)\n",
        "points = data[['DMC','Temperature']]\n",
        "# fit kmeans object to data\n",
        "kmeans.fit(points)\n",
        "# print location of clusters learned by kmeans object\n",
        "print(kmeans.cluster_centers_)\n",
        "# save new clusters for chart\n",
        "y_km = kmeans.fit_predict(points)"
      ],
      "execution_count": 10,
      "outputs": [
        {
          "output_type": "stream",
          "name": "stdout",
          "text": [
            "[[ 3.28181818 28.36363636]\n",
            " [45.57142857 34.        ]\n",
            " [23.35909091 34.04545455]\n",
            " [10.71632653 32.02040816]]\n"
          ]
        }
      ]
    },
    {
      "cell_type": "code",
      "metadata": {
        "colab": {
          "base_uri": "https://localhost:8080/",
          "height": 424
        },
        "id": "xZ-eAE2vuCLA",
        "outputId": "1f19271d-369e-493c-eee2-521fb0540bb6"
      },
      "source": [
        "data['cluster'] = y_km\n",
        "data"
      ],
      "execution_count": 12,
      "outputs": [
        {
          "output_type": "execute_result",
          "data": {
            "text/html": [
              "<div>\n",
              "<style scoped>\n",
              "    .dataframe tbody tr th:only-of-type {\n",
              "        vertical-align: middle;\n",
              "    }\n",
              "\n",
              "    .dataframe tbody tr th {\n",
              "        vertical-align: top;\n",
              "    }\n",
              "\n",
              "    .dataframe thead th {\n",
              "        text-align: right;\n",
              "    }\n",
              "</style>\n",
              "<table border=\"1\" class=\"dataframe\">\n",
              "  <thead>\n",
              "    <tr style=\"text-align: right;\">\n",
              "      <th></th>\n",
              "      <th>day</th>\n",
              "      <th>month</th>\n",
              "      <th>year</th>\n",
              "      <th>Temperature</th>\n",
              "      <th>RH</th>\n",
              "      <th>Ws</th>\n",
              "      <th>Rain</th>\n",
              "      <th>FFMC</th>\n",
              "      <th>DMC</th>\n",
              "      <th>DC</th>\n",
              "      <th>ISI</th>\n",
              "      <th>BUI</th>\n",
              "      <th>FWI</th>\n",
              "      <th>y</th>\n",
              "      <th>cluster</th>\n",
              "    </tr>\n",
              "  </thead>\n",
              "  <tbody>\n",
              "    <tr>\n",
              "      <th>0</th>\n",
              "      <td>1</td>\n",
              "      <td>6</td>\n",
              "      <td>2012</td>\n",
              "      <td>29</td>\n",
              "      <td>57</td>\n",
              "      <td>18</td>\n",
              "      <td>0.0</td>\n",
              "      <td>65.7</td>\n",
              "      <td>3.4</td>\n",
              "      <td>7.6</td>\n",
              "      <td>1.3</td>\n",
              "      <td>3.4</td>\n",
              "      <td>0.5</td>\n",
              "      <td>0</td>\n",
              "      <td>2</td>\n",
              "    </tr>\n",
              "    <tr>\n",
              "      <th>1</th>\n",
              "      <td>2</td>\n",
              "      <td>6</td>\n",
              "      <td>2012</td>\n",
              "      <td>29</td>\n",
              "      <td>61</td>\n",
              "      <td>13</td>\n",
              "      <td>1.3</td>\n",
              "      <td>64.4</td>\n",
              "      <td>4.1</td>\n",
              "      <td>7.6</td>\n",
              "      <td>1.0</td>\n",
              "      <td>3.9</td>\n",
              "      <td>0.4</td>\n",
              "      <td>0</td>\n",
              "      <td>2</td>\n",
              "    </tr>\n",
              "    <tr>\n",
              "      <th>2</th>\n",
              "      <td>3</td>\n",
              "      <td>6</td>\n",
              "      <td>2012</td>\n",
              "      <td>26</td>\n",
              "      <td>82</td>\n",
              "      <td>22</td>\n",
              "      <td>13.1</td>\n",
              "      <td>47.1</td>\n",
              "      <td>2.5</td>\n",
              "      <td>7.1</td>\n",
              "      <td>0.3</td>\n",
              "      <td>2.7</td>\n",
              "      <td>0.1</td>\n",
              "      <td>0</td>\n",
              "      <td>2</td>\n",
              "    </tr>\n",
              "    <tr>\n",
              "      <th>3</th>\n",
              "      <td>4</td>\n",
              "      <td>6</td>\n",
              "      <td>2012</td>\n",
              "      <td>25</td>\n",
              "      <td>89</td>\n",
              "      <td>13</td>\n",
              "      <td>2.5</td>\n",
              "      <td>28.6</td>\n",
              "      <td>1.3</td>\n",
              "      <td>6.9</td>\n",
              "      <td>0.0</td>\n",
              "      <td>1.7</td>\n",
              "      <td>0.0</td>\n",
              "      <td>0</td>\n",
              "      <td>2</td>\n",
              "    </tr>\n",
              "    <tr>\n",
              "      <th>4</th>\n",
              "      <td>5</td>\n",
              "      <td>6</td>\n",
              "      <td>2012</td>\n",
              "      <td>27</td>\n",
              "      <td>77</td>\n",
              "      <td>16</td>\n",
              "      <td>0.0</td>\n",
              "      <td>64.8</td>\n",
              "      <td>3.0</td>\n",
              "      <td>14.2</td>\n",
              "      <td>1.2</td>\n",
              "      <td>3.9</td>\n",
              "      <td>0.5</td>\n",
              "      <td>0</td>\n",
              "      <td>2</td>\n",
              "    </tr>\n",
              "    <tr>\n",
              "      <th>...</th>\n",
              "      <td>...</td>\n",
              "      <td>...</td>\n",
              "      <td>...</td>\n",
              "      <td>...</td>\n",
              "      <td>...</td>\n",
              "      <td>...</td>\n",
              "      <td>...</td>\n",
              "      <td>...</td>\n",
              "      <td>...</td>\n",
              "      <td>...</td>\n",
              "      <td>...</td>\n",
              "      <td>...</td>\n",
              "      <td>...</td>\n",
              "      <td>...</td>\n",
              "      <td>...</td>\n",
              "    </tr>\n",
              "    <tr>\n",
              "      <th>117</th>\n",
              "      <td>26</td>\n",
              "      <td>9</td>\n",
              "      <td>2012</td>\n",
              "      <td>31</td>\n",
              "      <td>54</td>\n",
              "      <td>11</td>\n",
              "      <td>0.0</td>\n",
              "      <td>82.0</td>\n",
              "      <td>6.0</td>\n",
              "      <td>16.3</td>\n",
              "      <td>2.5</td>\n",
              "      <td>6.2</td>\n",
              "      <td>1.7</td>\n",
              "      <td>0</td>\n",
              "      <td>2</td>\n",
              "    </tr>\n",
              "    <tr>\n",
              "      <th>118</th>\n",
              "      <td>27</td>\n",
              "      <td>9</td>\n",
              "      <td>2012</td>\n",
              "      <td>31</td>\n",
              "      <td>66</td>\n",
              "      <td>11</td>\n",
              "      <td>0.0</td>\n",
              "      <td>85.7</td>\n",
              "      <td>8.3</td>\n",
              "      <td>24.9</td>\n",
              "      <td>4.0</td>\n",
              "      <td>9.0</td>\n",
              "      <td>4.1</td>\n",
              "      <td>1</td>\n",
              "      <td>0</td>\n",
              "    </tr>\n",
              "    <tr>\n",
              "      <th>119</th>\n",
              "      <td>28</td>\n",
              "      <td>9</td>\n",
              "      <td>2012</td>\n",
              "      <td>32</td>\n",
              "      <td>47</td>\n",
              "      <td>14</td>\n",
              "      <td>0.7</td>\n",
              "      <td>77.5</td>\n",
              "      <td>7.1</td>\n",
              "      <td>8.8</td>\n",
              "      <td>1.8</td>\n",
              "      <td>6.8</td>\n",
              "      <td>0.9</td>\n",
              "      <td>0</td>\n",
              "      <td>0</td>\n",
              "    </tr>\n",
              "    <tr>\n",
              "      <th>120</th>\n",
              "      <td>29</td>\n",
              "      <td>9</td>\n",
              "      <td>2012</td>\n",
              "      <td>26</td>\n",
              "      <td>80</td>\n",
              "      <td>16</td>\n",
              "      <td>1.8</td>\n",
              "      <td>47.4</td>\n",
              "      <td>2.9</td>\n",
              "      <td>7.7</td>\n",
              "      <td>0.3</td>\n",
              "      <td>3.0</td>\n",
              "      <td>0.1</td>\n",
              "      <td>0</td>\n",
              "      <td>2</td>\n",
              "    </tr>\n",
              "    <tr>\n",
              "      <th>121</th>\n",
              "      <td>30</td>\n",
              "      <td>9</td>\n",
              "      <td>2012</td>\n",
              "      <td>25</td>\n",
              "      <td>78</td>\n",
              "      <td>14</td>\n",
              "      <td>1.4</td>\n",
              "      <td>45.0</td>\n",
              "      <td>1.9</td>\n",
              "      <td>7.5</td>\n",
              "      <td>0.2</td>\n",
              "      <td>2.4</td>\n",
              "      <td>0.1</td>\n",
              "      <td>0</td>\n",
              "      <td>2</td>\n",
              "    </tr>\n",
              "  </tbody>\n",
              "</table>\n",
              "<p>122 rows × 15 columns</p>\n",
              "</div>"
            ],
            "text/plain": [
              "     day  month  year  Temperature   RH   Ws  ...    DC  ISI  BUI  FWI  y  cluster\n",
              "0      1      6  2012           29   57   18  ...   7.6  1.3  3.4  0.5  0        2\n",
              "1      2      6  2012           29   61   13  ...   7.6  1.0  3.9  0.4  0        2\n",
              "2      3      6  2012           26   82   22  ...   7.1  0.3  2.7  0.1  0        2\n",
              "3      4      6  2012           25   89   13  ...   6.9  0.0  1.7  0.0  0        2\n",
              "4      5      6  2012           27   77   16  ...  14.2  1.2  3.9  0.5  0        2\n",
              "..   ...    ...   ...          ...  ...  ...  ...   ...  ...  ...  ... ..      ...\n",
              "117   26      9  2012           31   54   11  ...  16.3  2.5  6.2  1.7  0        2\n",
              "118   27      9  2012           31   66   11  ...  24.9  4.0  9.0  4.1  1        0\n",
              "119   28      9  2012           32   47   14  ...   8.8  1.8  6.8  0.9  0        0\n",
              "120   29      9  2012           26   80   16  ...   7.7  0.3  3.0  0.1  0        2\n",
              "121   30      9  2012           25   78   14  ...   7.5  0.2  2.4  0.1  0        2\n",
              "\n",
              "[122 rows x 15 columns]"
            ]
          },
          "metadata": {},
          "execution_count": 12
        }
      ]
    },
    {
      "cell_type": "code",
      "metadata": {
        "colab": {
          "base_uri": "https://localhost:8080/",
          "height": 296
        },
        "id": "KemWhhb38CpN",
        "outputId": "1dc45a23-30b1-42d3-98c1-689ddb5db43b"
      },
      "source": [
        "# We have our 4 clusters, as it nearly perfectly captured the boundaries of the initial clusters we created.\n",
        "df1 = data[data.cluster==0]\n",
        "df2 = data[data.cluster==1]\n",
        "df3 = data[data.cluster==2]\n",
        "df4 = data[data.cluster==3]\n",
        "plt.scatter(df1.DMC,df1['Temperature'],color='green')\n",
        "plt.scatter(df2.DMC,df2['Temperature'],color='red')\n",
        "plt.scatter(df3.DMC,df3['Temperature'],color='black')\n",
        "plt.scatter(df4.DMC,df4['Temperature'],color='yellow')\n",
        "plt.scatter(kmeans.cluster_centers_[:,0],kmeans.cluster_centers_[:,1],color='purple',marker='*',label='centroid',s = 100)\n",
        "plt.xlabel('DMC')\n",
        "plt.ylabel('Temperature')\n",
        "plt.legend(['Temperature cluster 0','Temperature cluster 1','Temperature cluster 2','Temperature cluster 3','centroid'],loc=0)"
      ],
      "execution_count": 13,
      "outputs": [
        {
          "output_type": "execute_result",
          "data": {
            "text/plain": [
              "<matplotlib.legend.Legend at 0x7f70d50d4dd0>"
            ]
          },
          "metadata": {},
          "execution_count": 13
        },
        {
          "output_type": "display_data",
          "data": {
            "image/png": "[encoded data removed]",
            "text/plain": [
              "<Figure size 432x288 with 1 Axes>"
            ]
          },
          "metadata": {
            "needs_background": "light"
          }
        }
      ]
    },
    {
      "cell_type": "markdown",
      "metadata": {
        "id": "pC-22mdH89UJ"
      },
      "source": [
        "**Elbow**\n",
        "\n",
        "used to pick up the best k"
      ]
    },
    {
      "cell_type": "code",
      "metadata": {
        "id": "Srd0ug2s9A4L"
      },
      "source": [
        "sse = []\n",
        "k_rng = range(1,10)\n",
        "for k in k_rng:\n",
        "    kmeans = KMeans(n_clusters=k)\n",
        "    kmeans.fit(data[['DMC','Temperature']])\n",
        "    sse.append(kmeans.inertia_)\n",
        "\n"
      ],
      "execution_count": 14,
      "outputs": []
    },
    {
      "cell_type": "code",
      "metadata": {
        "colab": {
          "base_uri": "https://localhost:8080/",
          "height": 296
        },
        "id": "m5DlE0sa9EgF",
        "outputId": "a81ef989-df6b-49a8-d118-f949080b5a2d"
      },
      "source": [
        "plt.xlabel('K')\n",
        "plt.ylabel('Sum of squared error')\n",
        "plt.plot(k_rng,sse)"
      ],
      "execution_count": 15,
      "outputs": [
        {
          "output_type": "execute_result",
          "data": {
            "text/plain": [
              "[<matplotlib.lines.Line2D at 0x7f70d3007850>]"
            ]
          },
          "metadata": {},
          "execution_count": 15
        },
        {
          "output_type": "display_data",
          "data": {
            "image/png": "[encoded data removed]",
            "text/plain": [
              "<Figure size 432x288 with 1 Axes>"
            ]
          },
          "metadata": {
            "needs_background": "light"
          }
        }
      ]
    }
  ]
}