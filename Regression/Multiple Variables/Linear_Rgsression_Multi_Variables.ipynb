{
  "nbformat": 4,
  "nbformat_minor": 0,
  "metadata": {
    "colab": {
      "name": "Linear Rgsression Multi Variables.ipynb",
      "provenance": []
    },
    "kernelspec": {
      "name": "python3",
      "display_name": "Python 3"
    },
    "language_info": {
      "name": "python"
    }
  },
  "cells": [
    {
      "cell_type": "markdown",
      "metadata": {
        "id": "-SNQjguUZfJ2"
      },
      "source": [
        "**Linear Rgsression Multi Variables**\n",
        "\n",
        "Here is the sample equation of Linear regression for Multi features\n",
        "Y = a + (b1 * X1) + (b2 * X2) + (b3 * X3)\n",
        "\n",
        "so now we will see how we can use linear regressin in python.\n",
        "\n",
        "\n",
        "\n",
        "Note:Regression in machine learning consists of mathematical methods that allow data scientists to predict a continuous outcome (y)"
      ]
    },
    {
      "cell_type": "code",
      "metadata": {
        "id": "7rhSwRkCZYs2"
      },
      "source": [
        "# Here most importent libraries for ML\n",
        "import pandas as pd\n",
        "import numpy as np\n",
        "import matplotlib.pyplot as plt\n",
        "from sklearn import linear_model"
      ],
      "execution_count": 2,
      "outputs": []
    },
    {
      "cell_type": "code",
      "metadata": {
        "colab": {
          "base_uri": "https://localhost:8080/",
          "height": 206
        },
        "id": "2-qFmfp7buzX",
        "outputId": "c9ec863b-41e5-4d0d-8b4e-ed8c30fb6135"
      },
      "source": [
        "# Here the dataset has age , height , sport level and weight i read it from excel file\n",
        "# note: i will use weight as target (y) \n",
        "# We have here 3 features age height sport level\n",
        "data = pd.read_excel(\"Multi features.xlsx\")\n",
        "data"
      ],
      "execution_count": 5,
      "outputs": [
        {
          "output_type": "execute_result",
          "data": {
            "text/html": [
              "<div>\n",
              "<style scoped>\n",
              "    .dataframe tbody tr th:only-of-type {\n",
              "        vertical-align: middle;\n",
              "    }\n",
              "\n",
              "    .dataframe tbody tr th {\n",
              "        vertical-align: top;\n",
              "    }\n",
              "\n",
              "    .dataframe thead th {\n",
              "        text-align: right;\n",
              "    }\n",
              "</style>\n",
              "<table border=\"1\" class=\"dataframe\">\n",
              "  <thead>\n",
              "    <tr style=\"text-align: right;\">\n",
              "      <th></th>\n",
              "      <th>age</th>\n",
              "      <th>height</th>\n",
              "      <th>sport level</th>\n",
              "      <th>weight</th>\n",
              "    </tr>\n",
              "  </thead>\n",
              "  <tbody>\n",
              "    <tr>\n",
              "      <th>0</th>\n",
              "      <td>29</td>\n",
              "      <td>180</td>\n",
              "      <td>2</td>\n",
              "      <td>71</td>\n",
              "    </tr>\n",
              "    <tr>\n",
              "      <th>1</th>\n",
              "      <td>26</td>\n",
              "      <td>177</td>\n",
              "      <td>4</td>\n",
              "      <td>73</td>\n",
              "    </tr>\n",
              "    <tr>\n",
              "      <th>2</th>\n",
              "      <td>21</td>\n",
              "      <td>172</td>\n",
              "      <td>2</td>\n",
              "      <td>68</td>\n",
              "    </tr>\n",
              "    <tr>\n",
              "      <th>3</th>\n",
              "      <td>19</td>\n",
              "      <td>169</td>\n",
              "      <td>1</td>\n",
              "      <td>62</td>\n",
              "    </tr>\n",
              "    <tr>\n",
              "      <th>4</th>\n",
              "      <td>17</td>\n",
              "      <td>165</td>\n",
              "      <td>3</td>\n",
              "      <td>67</td>\n",
              "    </tr>\n",
              "  </tbody>\n",
              "</table>\n",
              "</div>"
            ],
            "text/plain": [
              "   age  height  sport level  weight\n",
              "0   29     180            2      71\n",
              "1   26     177            4      73\n",
              "2   21     172            2      68\n",
              "3   19     169            1      62\n",
              "4   17     165            3      67"
            ]
          },
          "metadata": {},
          "execution_count": 5
        }
      ]
    },
    {
      "cell_type": "code",
      "metadata": {
        "colab": {
          "base_uri": "https://localhost:8080/"
        },
        "id": "FWkRk9dgcq5F",
        "outputId": "bdeee9a3-db90-42f3-9ff5-54f3a669217e"
      },
      "source": [
        "#I take my model LinearRegression() from siket learn library  now lets train our model on our data - model will learn from this step\n",
        "\n",
        "model = linear_model.LinearRegression()\n",
        "# So i will learn my model for age , height , sport level and the target weight\n",
        "model.fit(data[['age','height','sport level']], data.weight)"
      ],
      "execution_count": 7,
      "outputs": [
        {
          "output_type": "execute_result",
          "data": {
            "text/plain": [
              "LinearRegression()"
            ]
          },
          "metadata": {},
          "execution_count": 7
        }
      ]
    },
    {
      "cell_type": "code",
      "metadata": {
        "colab": {
          "base_uri": "https://localhost:8080/",
          "height": 206
        },
        "id": "M56qzsISdRNp",
        "outputId": "4d7be196-efa0-44e2-ba4d-3faf620fcf70"
      },
      "source": [
        "# i have created i test dataset without weight so i want to preduict new ages , height , sport level data weight\n",
        "test_data = pd.read_excel('Multi features test.xlsx')\n",
        "test_data"
      ],
      "execution_count": 10,
      "outputs": [
        {
          "output_type": "execute_result",
          "data": {
            "text/html": [
              "<div>\n",
              "<style scoped>\n",
              "    .dataframe tbody tr th:only-of-type {\n",
              "        vertical-align: middle;\n",
              "    }\n",
              "\n",
              "    .dataframe tbody tr th {\n",
              "        vertical-align: top;\n",
              "    }\n",
              "\n",
              "    .dataframe thead th {\n",
              "        text-align: right;\n",
              "    }\n",
              "</style>\n",
              "<table border=\"1\" class=\"dataframe\">\n",
              "  <thead>\n",
              "    <tr style=\"text-align: right;\">\n",
              "      <th></th>\n",
              "      <th>age</th>\n",
              "      <th>height</th>\n",
              "      <th>sport level</th>\n",
              "    </tr>\n",
              "  </thead>\n",
              "  <tbody>\n",
              "    <tr>\n",
              "      <th>0</th>\n",
              "      <td>28</td>\n",
              "      <td>182</td>\n",
              "      <td>1</td>\n",
              "    </tr>\n",
              "    <tr>\n",
              "      <th>1</th>\n",
              "      <td>24</td>\n",
              "      <td>176</td>\n",
              "      <td>3</td>\n",
              "    </tr>\n",
              "    <tr>\n",
              "      <th>2</th>\n",
              "      <td>20</td>\n",
              "      <td>160</td>\n",
              "      <td>4</td>\n",
              "    </tr>\n",
              "    <tr>\n",
              "      <th>3</th>\n",
              "      <td>18</td>\n",
              "      <td>172</td>\n",
              "      <td>1</td>\n",
              "    </tr>\n",
              "    <tr>\n",
              "      <th>4</th>\n",
              "      <td>16</td>\n",
              "      <td>169</td>\n",
              "      <td>2</td>\n",
              "    </tr>\n",
              "  </tbody>\n",
              "</table>\n",
              "</div>"
            ],
            "text/plain": [
              "   age  height  sport level\n",
              "0   28     182            1\n",
              "1   24     176            3\n",
              "2   20     160            4\n",
              "3   18     172            1\n",
              "4   16     169            2"
            ]
          },
          "metadata": {},
          "execution_count": 10
        }
      ]
    },
    {
      "cell_type": "code",
      "metadata": {
        "id": "I5faGM9NeKSA"
      },
      "source": [
        "# Here model will preduict the new ages height sport level\n",
        "predicted_weight = model.predict(test_data)"
      ],
      "execution_count": 11,
      "outputs": []
    },
    {
      "cell_type": "code",
      "metadata": {
        "id": "QkmrFLRpeS9M"
      },
      "source": [
        "# add the predicted weight to th dataset\n",
        "\n",
        "test_data['predicted_weight'] = predicted_weight"
      ],
      "execution_count": 12,
      "outputs": []
    },
    {
      "cell_type": "code",
      "metadata": {
        "colab": {
          "base_uri": "https://localhost:8080/",
          "height": 206
        },
        "id": "2RsSDwOceVFw",
        "outputId": "15fbf93a-9aff-4b0d-a13d-48e0f252bd98"
      },
      "source": [
        "test_data"
      ],
      "execution_count": 13,
      "outputs": [
        {
          "output_type": "execute_result",
          "data": {
            "text/html": [
              "<div>\n",
              "<style scoped>\n",
              "    .dataframe tbody tr th:only-of-type {\n",
              "        vertical-align: middle;\n",
              "    }\n",
              "\n",
              "    .dataframe tbody tr th {\n",
              "        vertical-align: top;\n",
              "    }\n",
              "\n",
              "    .dataframe thead th {\n",
              "        text-align: right;\n",
              "    }\n",
              "</style>\n",
              "<table border=\"1\" class=\"dataframe\">\n",
              "  <thead>\n",
              "    <tr style=\"text-align: right;\">\n",
              "      <th></th>\n",
              "      <th>age</th>\n",
              "      <th>height</th>\n",
              "      <th>sport level</th>\n",
              "      <th>predicted_weight</th>\n",
              "    </tr>\n",
              "  </thead>\n",
              "  <tbody>\n",
              "    <tr>\n",
              "      <th>0</th>\n",
              "      <td>28</td>\n",
              "      <td>182</td>\n",
              "      <td>1</td>\n",
              "      <td>68.354167</td>\n",
              "    </tr>\n",
              "    <tr>\n",
              "      <th>1</th>\n",
              "      <td>24</td>\n",
              "      <td>176</td>\n",
              "      <td>3</td>\n",
              "      <td>70.729167</td>\n",
              "    </tr>\n",
              "    <tr>\n",
              "      <th>2</th>\n",
              "      <td>20</td>\n",
              "      <td>160</td>\n",
              "      <td>4</td>\n",
              "      <td>68.781250</td>\n",
              "    </tr>\n",
              "    <tr>\n",
              "      <th>3</th>\n",
              "      <td>18</td>\n",
              "      <td>172</td>\n",
              "      <td>1</td>\n",
              "      <td>63.562500</td>\n",
              "    </tr>\n",
              "    <tr>\n",
              "      <th>4</th>\n",
              "      <td>16</td>\n",
              "      <td>169</td>\n",
              "      <td>2</td>\n",
              "      <td>64.750000</td>\n",
              "    </tr>\n",
              "  </tbody>\n",
              "</table>\n",
              "</div>"
            ],
            "text/plain": [
              "   age  height  sport level  predicted_weight\n",
              "0   28     182            1         68.354167\n",
              "1   24     176            3         70.729167\n",
              "2   20     160            4         68.781250\n",
              "3   18     172            1         63.562500\n",
              "4   16     169            2         64.750000"
            ]
          },
          "metadata": {},
          "execution_count": 13
        }
      ]
    },
    {
      "cell_type": "code",
      "metadata": {
        "colab": {
          "base_uri": "https://localhost:8080/"
        },
        "id": "m96xHV2vehEr",
        "outputId": "7d950756-bdd0-451e-e5cf-83b18fe62006"
      },
      "source": [
        "# to get slope of your dataset\n",
        "b = model.coef_\n",
        "b"
      ],
      "execution_count": 19,
      "outputs": [
        {
          "output_type": "execute_result",
          "data": {
            "text/plain": [
              "array([0.28125   , 0.19791667, 2.34375   ])"
            ]
          },
          "metadata": {},
          "execution_count": 19
        }
      ]
    },
    {
      "cell_type": "code",
      "metadata": {
        "colab": {
          "base_uri": "https://localhost:8080/"
        },
        "id": "YAEbdP3BewEX",
        "outputId": "01c587e7-7561-457a-e94f-89a1b929f2a1"
      },
      "source": [
        "# here is a in our equation\n",
        "a = model.intercept_\n",
        "a"
      ],
      "execution_count": 20,
      "outputs": [
        {
          "output_type": "execute_result",
          "data": {
            "text/plain": [
              "22.11458333333332"
            ]
          },
          "metadata": {},
          "execution_count": 20
        }
      ]
    },
    {
      "cell_type": "code",
      "metadata": {
        "colab": {
          "base_uri": "https://localhost:8080/"
        },
        "id": "NLkhWem0fUbs",
        "outputId": "d0470637-69a9-4c89-8a5f-74e9d1e23427"
      },
      "source": [
        "# equation\n",
        "Y = 22.11458333333332 + (0.28125 * 28) + (0.19791667 * 182)+ (2.34375 * 1 )\n",
        "Y"
      ],
      "execution_count": 22,
      "outputs": [
        {
          "output_type": "execute_result",
          "data": {
            "text/plain": [
              "68.35416727333332"
            ]
          },
          "metadata": {},
          "execution_count": 22
        }
      ]
    }
  ]
}