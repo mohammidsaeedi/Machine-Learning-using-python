{
  "nbformat": 4,
  "nbformat_minor": 0,
  "metadata": {
    "colab": {
      "name": "RegEx.ipynb",
      "provenance": [],
      "collapsed_sections": []
    },
    "kernelspec": {
      "name": "python3",
      "display_name": "Python 3"
    },
    "language_info": {
      "name": "python"
    }
  },
  "cells": [
    {
      "cell_type": "code",
      "execution_count": null,
      "metadata": {
        "id": "NeRD6UugL11L"
      },
      "outputs": [],
      "source": [
        "import re"
      ]
    },
    {
      "cell_type": "code",
      "source": [
        "\n",
        "text = 'my contry is Saudi Arabia'\n",
        "# pattern to check if it start with my and end with Saudi Arabia\n",
        "pat = \"^my.*Saudi Arabia$\""
      ],
      "metadata": {
        "id": "orhYEzHRL94P"
      },
      "execution_count": null,
      "outputs": []
    },
    {
      "cell_type": "code",
      "source": [
        "x = re.search(pat, text)\n",
        "if (x):\n",
        "  print(\"Yes, there is at least one match!\")\n",
        "else:\n",
        "  print(\"No match\")"
      ],
      "metadata": {
        "colab": {
          "base_uri": "https://localhost:8080/"
        },
        "id": "F6Hk31wDWDjq",
        "outputId": "68b6a0e5-903c-40a1-bc2c-aadd1e6d03e4"
      },
      "execution_count": null,
      "outputs": [
        {
          "output_type": "stream",
          "name": "stdout",
          "text": [
            "Yes, there is at least one match!\n"
          ]
        }
      ]
    },
    {
      "cell_type": "code",
      "source": [
        "x = re.findall(\"Sa\", text)\n",
        "if (x):\n",
        "  print(\"Yes, there is at least one match!\")\n",
        "else:\n",
        "  print(\"No match\")"
      ],
      "metadata": {
        "colab": {
          "base_uri": "https://localhost:8080/"
        },
        "id": "NFtgcSb_W8fD",
        "outputId": "28de6569-4a1d-4ee2-a601-b832c6e2a97c"
      },
      "execution_count": null,
      "outputs": [
        {
          "output_type": "stream",
          "name": "stdout",
          "text": [
            "Yes, there is at least one match!\n"
          ]
        }
      ]
    },
    {
      "cell_type": "code",
      "source": [
        "import re\n",
        "\n",
        "txt = \"Most cool place is Makkah\"\n",
        "#pattern match first space and after how many character\n",
        "x = re.search(\"\\s\", txt)\n",
        "\n",
        "print(\"The first white-space character is located in position:\", x.start()) \n"
      ],
      "metadata": {
        "colab": {
          "base_uri": "https://localhost:8080/"
        },
        "id": "8eTqARfxX0CK",
        "outputId": "3fd741bc-edb2-41ec-ebff-cb3880dd9c27"
      },
      "execution_count": null,
      "outputs": [
        {
          "output_type": "stream",
          "name": "stdout",
          "text": [
            "The first white-space character is located in position: 4\n"
          ]
        }
      ]
    },
    {
      "cell_type": "code",
      "source": [
        "import re\n",
        "\n",
        "txt = \"Makkah has the holy mosque\"\n",
        "x = re.split(\"\\s\", txt)\n",
        "print(x)"
      ],
      "metadata": {
        "colab": {
          "base_uri": "https://localhost:8080/"
        },
        "id": "MuV_aSUfYbVr",
        "outputId": "0f93124b-d6b7-4e2a-faae-5efc94c75626"
      },
      "execution_count": null,
      "outputs": [
        {
          "output_type": "stream",
          "name": "stdout",
          "text": [
            "['Makkah', 'has', 'the', 'holy', 'mosque']\n"
          ]
        }
      ]
    },
    {
      "cell_type": "code",
      "source": [
        "import re\n",
        "\n",
        "txt = \"Makkah has the holy mosque\"\n",
        "#split only the first two words\n",
        "x = re.split(\"\\s\", txt, 2)\n",
        "print(x)"
      ],
      "metadata": {
        "colab": {
          "base_uri": "https://localhost:8080/"
        },
        "id": "him__ruQYoto",
        "outputId": "25bdd5b4-c094-4fd7-f46a-a68fcaee89f5"
      },
      "execution_count": null,
      "outputs": [
        {
          "output_type": "stream",
          "name": "stdout",
          "text": [
            "['Makkah', 'has', 'the holy mosque']\n"
          ]
        }
      ]
    },
    {
      "cell_type": "code",
      "source": [
        "import re\n",
        "\n",
        "txt = \"C: Program Files(x86) Android\"\n",
        "x = re.sub(\"\\s\", \"/\", txt)\n",
        "print(x)"
      ],
      "metadata": {
        "colab": {
          "base_uri": "https://localhost:8080/"
        },
        "id": "rXrAQ34vY5hv",
        "outputId": "b96b6669-eaa8-4278-e64e-cc5408d6468d"
      },
      "execution_count": null,
      "outputs": [
        {
          "output_type": "stream",
          "name": "stdout",
          "text": [
            "C:/Program/Files(x86)/Android\n"
          ]
        }
      ]
    },
    {
      "cell_type": "code",
      "source": [
        "import re\n",
        "\n",
        "#Search for an upper case \"S\" character in the beginning of a word, and print the word:\n",
        "\n",
        "txt = \"Makkah has the most quiet city\"\n",
        "x = re.search(r\"\\bM\\w+\", txt)\n",
        "print(x.group())"
      ],
      "metadata": {
        "colab": {
          "base_uri": "https://localhost:8080/"
        },
        "id": "h7aPz1WIZkUl",
        "outputId": "b2f64d2c-82c0-4e6a-984d-9bcb22c050d2"
      },
      "execution_count": null,
      "outputs": [
        {
          "output_type": "stream",
          "name": "stdout",
          "text": [
            "Makkah\n"
          ]
        }
      ]
    },
    {
      "cell_type": "code",
      "source": [
        "import re\n",
        "\n",
        "phone = \"2004-959-559  This is Phone Number #\"\n",
        "\n",
        "# Delete Python-style comments\n",
        "num = re.sub(r'#.*$', \"\", phone)\n",
        "print(\"Phone Num : \", num) \n",
        "\n",
        "# Remove anything other than digits\n",
        "num = re.sub(r'\\D', \"\", phone)    \n",
        "print(\"Phone Num : \", num)"
      ],
      "metadata": {
        "colab": {
          "base_uri": "https://localhost:8080/"
        },
        "id": "OegOgMdXc-xG",
        "outputId": "979ddc5f-ccbe-4aaa-faec-2bf7481aeac0"
      },
      "execution_count": null,
      "outputs": [
        {
          "output_type": "stream",
          "name": "stdout",
          "text": [
            "Phone Num :  2004-959-559  This is Phone Number \n",
            "Phone Num :  2004959559\n"
          ]
        }
      ]
    },
    {
      "cell_type": "code",
      "source": [
        "import re\n",
        "\n",
        "txt = \"Makkah has the holy mosque محمد\"\n",
        "#split only the first two words\n",
        "x = re.split(r\"[^a-zA-Z0-9]\", txt)\n",
        "print(x)"
      ],
      "metadata": {
        "colab": {
          "base_uri": "https://localhost:8080/"
        },
        "id": "JgbVav_7dLh5",
        "outputId": "384d2c67-51a8-49ee-a6b3-39a1f4c45f30"
      },
      "execution_count": null,
      "outputs": [
        {
          "output_type": "stream",
          "name": "stdout",
          "text": [
            "['Makkah', 'has', 'the', 'holy', 'mosque', '', '', '', '', '']\n"
          ]
        }
      ]
    },
    {
      "cell_type": "code",
      "source": [
        "import re\n",
        "# Split digit patterns\n",
        "txt = \"My number is 059999 and my home bost cose is 5443\"\n",
        "#split only the first two words\n",
        "x = re.split(r\"[^0-9]\", txt)\n",
        "print(x)"
      ],
      "metadata": {
        "colab": {
          "base_uri": "https://localhost:8080/"
        },
        "id": "knGs6r0ud9Iq",
        "outputId": "5b9d4d35-b486-4be4-9df5-6bdc8a943a09"
      },
      "execution_count": null,
      "outputs": [
        {
          "output_type": "stream",
          "name": "stdout",
          "text": [
            "['', '', '', '', '', '', '', '', '', '', '', '', '', '059999', '', '', '', '', '', '', '', '', '', '', '', '', '', '', '', '', '', '', '', '', '', '', '', '', '', '5443']\n"
          ]
        }
      ]
    }
  ]
}