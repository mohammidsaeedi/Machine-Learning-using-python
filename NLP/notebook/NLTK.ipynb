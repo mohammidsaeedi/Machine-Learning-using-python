{
  "nbformat": 4,
  "nbformat_minor": 0,
  "metadata": {
    "colab": {
      "name": "NLTK.ipynb",
      "provenance": []
    },
    "kernelspec": {
      "name": "python3",
      "display_name": "Python 3"
    },
    "language_info": {
      "name": "python"
    }
  },
  "cells": [
    {
      "cell_type": "code",
      "execution_count": 50,
      "metadata": {
        "id": "uy-wIPsehyjc"
      },
      "outputs": [],
      "source": [
        "from nltk.tokenize import word_tokenize , sent_tokenize , RegexpTokenizer\n",
        "import nltk"
      ]
    },
    {
      "cell_type": "code",
      "source": [
        "nltk.download('punkt')"
      ],
      "metadata": {
        "colab": {
          "base_uri": "https://localhost:8080/"
        },
        "id": "gfrzWw62nlZP",
        "outputId": "f2b1ca4b-937d-422c-ec4c-384e51c330d2"
      },
      "execution_count": 37,
      "outputs": [
        {
          "output_type": "stream",
          "name": "stdout",
          "text": [
            "[nltk_data] Downloading package punkt to /root/nltk_data...\n",
            "[nltk_data]   Package punkt is already up-to-date!\n"
          ]
        },
        {
          "output_type": "execute_result",
          "data": {
            "text/plain": [
              "True"
            ]
          },
          "metadata": {},
          "execution_count": 37
        }
      ]
    },
    {
      "cell_type": "code",
      "source": [
        "text = 'My name is Mohammed, I am Computer engineer.'\n",
        "print(word_tokenize(text))"
      ],
      "metadata": {
        "colab": {
          "base_uri": "https://localhost:8080/"
        },
        "id": "pIZSiKdqm_wd",
        "outputId": "f1f1c1d7-26ff-4922-e5be-1ae169efd660"
      },
      "execution_count": 45,
      "outputs": [
        {
          "output_type": "stream",
          "name": "stdout",
          "text": [
            "['My', 'name', 'is', 'Mohammed', ',', 'I', 'am', 'Computer', 'engineer', '.']\n"
          ]
        }
      ]
    },
    {
      "cell_type": "code",
      "source": [
        "text = \"My name is Mohammed. I am Computer engineer. What is your name?\"\n",
        "print(sent_tokenize(text))"
      ],
      "metadata": {
        "colab": {
          "base_uri": "https://localhost:8080/"
        },
        "id": "NwRgfdjOntu9",
        "outputId": "b1dbd222-47a0-403f-fd87-6db2ebdd3db5"
      },
      "execution_count": 49,
      "outputs": [
        {
          "output_type": "stream",
          "name": "stdout",
          "text": [
            "['My name is Mohammed.', 'I am Computer engineer.', 'What is your name?']\n"
          ]
        }
      ]
    },
    {
      "cell_type": "code",
      "source": [
        "raw = RegexpTokenizer('\\w+')\n",
        "rawtext = raw.tokenize(text)\n",
        "rawtext"
      ],
      "metadata": {
        "colab": {
          "base_uri": "https://localhost:8080/"
        },
        "id": "HkVpzl_ozSoE",
        "outputId": "7c87df97-74e2-4729-866e-beb38a9127f3"
      },
      "execution_count": 54,
      "outputs": [
        {
          "output_type": "execute_result",
          "data": {
            "text/plain": [
              "['My',\n",
              " 'name',\n",
              " 'is',\n",
              " 'Mohammed',\n",
              " 'I',\n",
              " 'am',\n",
              " 'Computer',\n",
              " 'engineer',\n",
              " 'What',\n",
              " 'is',\n",
              " 'your',\n",
              " 'name']"
            ]
          },
          "metadata": {},
          "execution_count": 54
        }
      ]
    },
    {
      "cell_type": "code",
      "source": [
        "from nltk.corpus import brown , stopwords\n",
        "nltk.download('stopwords')"
      ],
      "metadata": {
        "colab": {
          "base_uri": "https://localhost:8080/"
        },
        "id": "592Z3-Fuz4rh",
        "outputId": "76ae472b-e61a-4bc0-e5e6-51256f895b83"
      },
      "execution_count": 73,
      "outputs": [
        {
          "output_type": "stream",
          "name": "stdout",
          "text": [
            "[nltk_data] Downloading package stopwords to /root/nltk_data...\n",
            "[nltk_data]   Package stopwords is already up-to-date!\n"
          ]
        },
        {
          "output_type": "execute_result",
          "data": {
            "text/plain": [
              "True"
            ]
          },
          "metadata": {},
          "execution_count": 73
        }
      ]
    },
    {
      "cell_type": "code",
      "source": [
        "print(brown.words())\n",
        "print(brown.sents())"
      ],
      "metadata": {
        "colab": {
          "base_uri": "https://localhost:8080/"
        },
        "id": "4d81Q1vSz_Dy",
        "outputId": "ed849763-2da7-4e35-efa8-dc03c6bf5814"
      },
      "execution_count": 61,
      "outputs": [
        {
          "output_type": "stream",
          "name": "stdout",
          "text": [
            "['The', 'Fulton', 'County', 'Grand', 'Jury', 'said', ...]\n",
            "[['The', 'Fulton', 'County', 'Grand', 'Jury', 'said', 'Friday', 'an', 'investigation', 'of', \"Atlanta's\", 'recent', 'primary', 'election', 'produced', '``', 'no', 'evidence', \"''\", 'that', 'any', 'irregularities', 'took', 'place', '.'], ['The', 'jury', 'further', 'said', 'in', 'term-end', 'presentments', 'that', 'the', 'City', 'Executive', 'Committee', ',', 'which', 'had', 'over-all', 'charge', 'of', 'the', 'election', ',', '``', 'deserves', 'the', 'praise', 'and', 'thanks', 'of', 'the', 'City', 'of', 'Atlanta', \"''\", 'for', 'the', 'manner', 'in', 'which', 'the', 'election', 'was', 'conducted', '.'], ...]\n"
          ]
        }
      ]
    },
    {
      "cell_type": "markdown",
      "source": [
        "#Stop Words"
      ],
      "metadata": {
        "id": "MJjYCxEI03qM"
      }
    },
    {
      "cell_type": "code",
      "source": [
        "stopwords = set(stopwords.words('english'))\n",
        "wordtokens = word_tokenize(text)\n",
        "filtred = [w for w in wordtokens if not w in stopwords]\n",
        "filtred = []\n",
        "\n",
        "for w in wordtokens:\n",
        "  if w not in stopwords:\n",
        "    filtred.append(w)\n",
        "print(wordtokens)\n",
        "print(filtred)"
      ],
      "metadata": {
        "colab": {
          "base_uri": "https://localhost:8080/"
        },
        "id": "wy8lcUPl03Iz",
        "outputId": "d3a57137-a3ef-4c75-c825-9e1bdaef8fb0"
      },
      "execution_count": 74,
      "outputs": [
        {
          "output_type": "stream",
          "name": "stdout",
          "text": [
            "['My', 'name', 'is', 'Mohammed', '.', 'I', 'am', 'Computer', 'engineer', '.', 'What', 'is', 'your', 'name', '?']\n",
            "['My', 'name', 'Mohammed', '.', 'I', 'Computer', 'engineer', '.', 'What', 'name', '?']\n"
          ]
        }
      ]
    }
  ]
}