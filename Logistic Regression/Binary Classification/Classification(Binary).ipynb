{
  "nbformat": 4,
  "nbformat_minor": 0,
  "metadata": {
    "colab": {
      "name": "Classification(Binary).ipynb",
      "provenance": []
    },
    "kernelspec": {
      "name": "python3",
      "display_name": "Python 3"
    },
    "language_info": {
      "name": "python"
    }
  },
  "cells": [
    {
      "cell_type": "markdown",
      "metadata": {
        "id": "bc5aKl3pnS9B"
      },
      "source": [
        "**Logictic Regression** (Classification)\n",
        "\n",
        "is a process related to categorization, the process in which ideas and objects are recognized, differentiated and understood.\n",
        "\n",
        "Now we will learn LR in python"
      ]
    },
    {
      "cell_type": "code",
      "metadata": {
        "id": "dQHtB6bOwN-Q"
      },
      "source": [
        "import pandas as pd \n",
        "from matplotlib import pyplot as pt"
      ],
      "execution_count": 5,
      "outputs": []
    },
    {
      "cell_type": "code",
      "metadata": {
        "colab": {
          "base_uri": "https://localhost:8080/",
          "height": 363
        },
        "id": "VA3ELQNrl1UI",
        "outputId": "000f61ab-f680-4299-cd8c-ea0add372625"
      },
      "source": [
        "#read the dataset and we can see age and healthy where 0 in healthy mean he has some problem in his/her health and 1 mean good health\n",
        "data = pd.read_excel('classification dataset.xlsx')\n",
        "data.head(10)"
      ],
      "execution_count": 59,
      "outputs": [
        {
          "output_type": "execute_result",
          "data": {
            "text/html": [
              "<div>\n",
              "<style scoped>\n",
              "    .dataframe tbody tr th:only-of-type {\n",
              "        vertical-align: middle;\n",
              "    }\n",
              "\n",
              "    .dataframe tbody tr th {\n",
              "        vertical-align: top;\n",
              "    }\n",
              "\n",
              "    .dataframe thead th {\n",
              "        text-align: right;\n",
              "    }\n",
              "</style>\n",
              "<table border=\"1\" class=\"dataframe\">\n",
              "  <thead>\n",
              "    <tr style=\"text-align: right;\">\n",
              "      <th></th>\n",
              "      <th>age</th>\n",
              "      <th>healthy</th>\n",
              "    </tr>\n",
              "  </thead>\n",
              "  <tbody>\n",
              "    <tr>\n",
              "      <th>0</th>\n",
              "      <td>22</td>\n",
              "      <td>1</td>\n",
              "    </tr>\n",
              "    <tr>\n",
              "      <th>1</th>\n",
              "      <td>24</td>\n",
              "      <td>1</td>\n",
              "    </tr>\n",
              "    <tr>\n",
              "      <th>2</th>\n",
              "      <td>26</td>\n",
              "      <td>1</td>\n",
              "    </tr>\n",
              "    <tr>\n",
              "      <th>3</th>\n",
              "      <td>30</td>\n",
              "      <td>1</td>\n",
              "    </tr>\n",
              "    <tr>\n",
              "      <th>4</th>\n",
              "      <td>40</td>\n",
              "      <td>1</td>\n",
              "    </tr>\n",
              "    <tr>\n",
              "      <th>5</th>\n",
              "      <td>42</td>\n",
              "      <td>1</td>\n",
              "    </tr>\n",
              "    <tr>\n",
              "      <th>6</th>\n",
              "      <td>46</td>\n",
              "      <td>0</td>\n",
              "    </tr>\n",
              "    <tr>\n",
              "      <th>7</th>\n",
              "      <td>49</td>\n",
              "      <td>0</td>\n",
              "    </tr>\n",
              "    <tr>\n",
              "      <th>8</th>\n",
              "      <td>50</td>\n",
              "      <td>0</td>\n",
              "    </tr>\n",
              "    <tr>\n",
              "      <th>9</th>\n",
              "      <td>52</td>\n",
              "      <td>0</td>\n",
              "    </tr>\n",
              "  </tbody>\n",
              "</table>\n",
              "</div>"
            ],
            "text/plain": [
              "   age  healthy\n",
              "0   22        1\n",
              "1   24        1\n",
              "2   26        1\n",
              "3   30        1\n",
              "4   40        1\n",
              "5   42        1\n",
              "6   46        0\n",
              "7   49        0\n",
              "8   50        0\n",
              "9   52        0"
            ]
          },
          "metadata": {},
          "execution_count": 59
        }
      ]
    },
    {
      "cell_type": "code",
      "metadata": {
        "colab": {
          "base_uri": "https://localhost:8080/"
        },
        "id": "X3N9M80Sn7JZ",
        "outputId": "e77e9b22-73e2-43d0-8c09-3eadbd370e9e"
      },
      "source": [
        "data.shape"
      ],
      "execution_count": 60,
      "outputs": [
        {
          "output_type": "execute_result",
          "data": {
            "text/plain": [
              "(13, 2)"
            ]
          },
          "metadata": {},
          "execution_count": 60
        }
      ]
    },
    {
      "cell_type": "code",
      "metadata": {
        "colab": {
          "base_uri": "https://localhost:8080/",
          "height": 295
        },
        "id": "DMZDI1pfn-cz",
        "outputId": "518d7e71-52a7-4e3d-8f27-58c483573920"
      },
      "source": [
        "pt.scatter(data[['age']],data.healthy,marker='+',color='blue')\n",
        "pt.ylabel(\"healthy status\")\n",
        "pt.xlabel(\"ages\")\n",
        "pt.title(\"Healthy Dataset Chart\");"
      ],
      "execution_count": 61,
      "outputs": [
        {
          "output_type": "display_data",
          "data": {
            "image/png": "[encoded data removed]",
            "text/plain": [
              "<Figure size 432x288 with 1 Axes>"
            ]
          },
          "metadata": {
            "needs_background": "light"
          }
        }
      ]
    },
    {
      "cell_type": "markdown",
      "metadata": {
        "id": "LwNa_n6poVkG"
      },
      "source": [
        "From scatter we can find the relation between health and age, when age is less than 45 healthy, is 1 otherwise healthy 0"
      ]
    },
    {
      "cell_type": "code",
      "metadata": {
        "id": "6q5zPqMtqe9F"
      },
      "source": [
        "# for better eperince we have to split our data into train and test data from our data\n",
        "\n",
        "from sklearn.model_selection import train_test_split\n",
        "\n",
        "Xtrain,Xtest , ytrain , ytest = train_test_split(data[['age']], data.healthy, test_size=0.2, random_state=1)"
      ],
      "execution_count": 86,
      "outputs": []
    },
    {
      "cell_type": "code",
      "metadata": {
        "colab": {
          "base_uri": "https://localhost:8080/"
        },
        "id": "AQHa-b-jrlKZ",
        "outputId": "be5ba257-1572-4151-a0bf-10c698bed4ce"
      },
      "source": [
        "# i split 20% of my data set as test dataset and we can check what is the shape of this dataset\n",
        "# random state will keep the train data as same each time we run the code \"reomve it and print the data to see clearly what we mean\"\n",
        "print('tarin dataset shape {} , test dataset shape {} ' .format(len(Xtrain),len(Xtest)) )"
      ],
      "execution_count": 87,
      "outputs": [
        {
          "output_type": "stream",
          "name": "stdout",
          "text": [
            "tarin dataset shape 10 , test dataset shape 3 \n"
          ]
        }
      ]
    },
    {
      "cell_type": "code",
      "metadata": {
        "id": "9JOWofn4tCTT"
      },
      "source": [
        "# here will import Logistic Regression model from siket learn library\n",
        "from sklearn.linear_model import LogisticRegression\n",
        "\n",
        "LR = LogisticRegression()"
      ],
      "execution_count": 88,
      "outputs": []
    },
    {
      "cell_type": "code",
      "metadata": {
        "id": "V6vTBDqHumq-"
      },
      "source": [
        "# here we will train the model for train dataset\n",
        "Train_model = LR.fit(Xtrain,ytrain)"
      ],
      "execution_count": 89,
      "outputs": []
    },
    {
      "cell_type": "code",
      "metadata": {
        "colab": {
          "base_uri": "https://localhost:8080/"
        },
        "id": "FIiyDD7JvOZY",
        "outputId": "60d4114c-fdf8-49bf-ba52-f682e9d02f64"
      },
      "source": [
        "# here we will test the model for test dataset\n",
        "Test_model = LR.predict(Xtest)\n",
        "Test_model"
      ],
      "execution_count": 90,
      "outputs": [
        {
          "output_type": "execute_result",
          "data": {
            "text/plain": [
              "array([1, 1, 1])"
            ]
          },
          "metadata": {},
          "execution_count": 90
        }
      ]
    },
    {
      "cell_type": "code",
      "metadata": {
        "colab": {
          "base_uri": "https://localhost:8080/"
        },
        "id": "0RxPo52yvb3Y",
        "outputId": "10095aa4-b980-4ba9-ac1c-584d0eab8cbc"
      },
      "source": [
        "# here we will add the results of our model to the ages we preducit the healty for.\n",
        "final_result = Xtest[['age']]\n",
        "final_result[['healthy']]= Test_model\n",
        "print(final_result)"
      ],
      "execution_count": 94,
      "outputs": [
        {
          "output_type": "stream",
          "name": "stdout",
          "text": [
            "   age  healthy\n",
            "2   26        1\n",
            "3   30        1\n",
            "4   40        1\n"
          ]
        }
      ]
    },
    {
      "cell_type": "code",
      "metadata": {
        "colab": {
          "base_uri": "https://localhost:8080/"
        },
        "id": "nYs-rElzwocT",
        "outputId": "d8fd0d08-1fe4-45a8-f5d8-a5af9733b6e1"
      },
      "source": [
        "# to get the accuracy of your model pass the test data and the y test data \n",
        "LR.score(Xtest,ytest)"
      ],
      "execution_count": 100,
      "outputs": [
        {
          "output_type": "execute_result",
          "data": {
            "text/plain": [
              "1.0"
            ]
          },
          "metadata": {},
          "execution_count": 100
        }
      ]
    },
    {
      "cell_type": "code",
      "metadata": {
        "colab": {
          "base_uri": "https://localhost:8080/"
        },
        "id": "TQc0WcrRzgqE",
        "outputId": "eca4d89a-f7b2-4d69-cad5-ad4bb609ae5b"
      },
      "source": [
        "# some problems in Logistic Regression we need to calculate the Probability not the accuracy\n",
        "LR.predict_proba(Xtest)\n"
      ],
      "execution_count": 101,
      "outputs": [
        {
          "output_type": "execute_result",
          "data": {
            "text/plain": [
              "array([[5.52548004e-07, 9.99999447e-01],\n",
              "       [1.38561464e-05, 9.99986144e-01],\n",
              "       [4.18114312e-02, 9.58188569e-01]])"
            ]
          },
          "metadata": {},
          "execution_count": 101
        }
      ]
    },
    {
      "cell_type": "code",
      "metadata": {
        "colab": {
          "base_uri": "https://localhost:8080/"
        },
        "id": "PyROggEr0GSa",
        "outputId": "aba02f4f-710e-41cc-a091-10c444725b9e"
      },
      "source": [
        "# i tried if i pass age 54 what will be the healty status and i got 0 so try your age and tell me what you got\n",
        "LR.predict([[54]])"
      ],
      "execution_count": 118,
      "outputs": [
        {
          "output_type": "stream",
          "name": "stderr",
          "text": [
            "/usr/local/lib/python3.7/dist-packages/sklearn/base.py:446: UserWarning: X does not have valid feature names, but LogisticRegression was fitted with feature names\n",
            "  \"X does not have valid feature names, but\"\n"
          ]
        },
        {
          "output_type": "execute_result",
          "data": {
            "text/plain": [
              "array([0])"
            ]
          },
          "metadata": {},
          "execution_count": 118
        }
      ]
    },
    {
      "cell_type": "markdown",
      "metadata": {
        "id": "6tMxUJ70zRSY"
      },
      "source": [
        "**Remember the dataset is small that is why our accuracy is one**\n",
        "\n",
        "1 mean your model 100% can predecuit the tests values"
      ]
    }
  ]
}