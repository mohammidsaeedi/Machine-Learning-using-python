{
  "nbformat": 4,
  "nbformat_minor": 0,
  "metadata": {
    "colab": {
      "name": "Classification(Multi).ipynb",
      "provenance": []
    },
    "kernelspec": {
      "name": "python3",
      "display_name": "Python 3"
    },
    "language_info": {
      "name": "python"
    }
  },
  "cells": [
    {
      "cell_type": "markdown",
      "metadata": {
        "id": "BJsHW4hq9ngo"
      },
      "source": [
        "Logictic Regression (Multi Classification)\n",
        "\n",
        "is the problem of classifying instances into one of three or more classes.\n",
        "\n",
        "\n",
        " \n",
        "\n",
        "Now we will learn LR in python"
      ]
    },
    {
      "cell_type": "code",
      "metadata": {
        "id": "g6VD-GSg7xaZ"
      },
      "source": [
        "import pandas as pd \n",
        "from matplotlib import pyplot as pt"
      ],
      "execution_count": 35,
      "outputs": []
    },
    {
      "cell_type": "code",
      "metadata": {
        "colab": {
          "base_uri": "https://localhost:8080/",
          "height": 363
        },
        "id": "SbHseJZy-GDT",
        "outputId": "6b297f95-043c-4eb6-846a-7e58201615a0"
      },
      "source": [
        "#read the dataset and we can see age and size where 1 in size mean small and 1 mean medium size and 3 mean big size.\n",
        "data = pd.read_excel('Multi classification.xlsx')\n",
        "data.head(10)"
      ],
      "execution_count": 36,
      "outputs": [
        {
          "output_type": "execute_result",
          "data": {
            "text/html": [
              "<div>\n",
              "<style scoped>\n",
              "    .dataframe tbody tr th:only-of-type {\n",
              "        vertical-align: middle;\n",
              "    }\n",
              "\n",
              "    .dataframe tbody tr th {\n",
              "        vertical-align: top;\n",
              "    }\n",
              "\n",
              "    .dataframe thead th {\n",
              "        text-align: right;\n",
              "    }\n",
              "</style>\n",
              "<table border=\"1\" class=\"dataframe\">\n",
              "  <thead>\n",
              "    <tr style=\"text-align: right;\">\n",
              "      <th></th>\n",
              "      <th>age</th>\n",
              "      <th>size</th>\n",
              "    </tr>\n",
              "  </thead>\n",
              "  <tbody>\n",
              "    <tr>\n",
              "      <th>0</th>\n",
              "      <td>26</td>\n",
              "      <td>1</td>\n",
              "    </tr>\n",
              "    <tr>\n",
              "      <th>1</th>\n",
              "      <td>27</td>\n",
              "      <td>2</td>\n",
              "    </tr>\n",
              "    <tr>\n",
              "      <th>2</th>\n",
              "      <td>28</td>\n",
              "      <td>3</td>\n",
              "    </tr>\n",
              "    <tr>\n",
              "      <th>3</th>\n",
              "      <td>30</td>\n",
              "      <td>3</td>\n",
              "    </tr>\n",
              "    <tr>\n",
              "      <th>4</th>\n",
              "      <td>32</td>\n",
              "      <td>3</td>\n",
              "    </tr>\n",
              "    <tr>\n",
              "      <th>5</th>\n",
              "      <td>34</td>\n",
              "      <td>2</td>\n",
              "    </tr>\n",
              "    <tr>\n",
              "      <th>6</th>\n",
              "      <td>35</td>\n",
              "      <td>1</td>\n",
              "    </tr>\n",
              "    <tr>\n",
              "      <th>7</th>\n",
              "      <td>39</td>\n",
              "      <td>2</td>\n",
              "    </tr>\n",
              "    <tr>\n",
              "      <th>8</th>\n",
              "      <td>40</td>\n",
              "      <td>1</td>\n",
              "    </tr>\n",
              "    <tr>\n",
              "      <th>9</th>\n",
              "      <td>42</td>\n",
              "      <td>3</td>\n",
              "    </tr>\n",
              "  </tbody>\n",
              "</table>\n",
              "</div>"
            ],
            "text/plain": [
              "   age  size\n",
              "0   26     1\n",
              "1   27     2\n",
              "2   28     3\n",
              "3   30     3\n",
              "4   32     3\n",
              "5   34     2\n",
              "6   35     1\n",
              "7   39     2\n",
              "8   40     1\n",
              "9   42     3"
            ]
          },
          "metadata": {},
          "execution_count": 36
        }
      ]
    },
    {
      "cell_type": "code",
      "metadata": {
        "colab": {
          "base_uri": "https://localhost:8080/"
        },
        "id": "BQoRcXrz-eN4",
        "outputId": "888d9176-3616-4096-d1f0-737ab44a6cc3"
      },
      "source": [
        "data.shape"
      ],
      "execution_count": 37,
      "outputs": [
        {
          "output_type": "execute_result",
          "data": {
            "text/plain": [
              "(15, 2)"
            ]
          },
          "metadata": {},
          "execution_count": 37
        }
      ]
    },
    {
      "cell_type": "code",
      "metadata": {
        "colab": {
          "base_uri": "https://localhost:8080/"
        },
        "id": "JSXt3UtJ-hZj",
        "outputId": "03297637-c2fd-46eb-e724-0bab476522c3"
      },
      "source": [
        "# here we want to see our labels \n",
        "from sklearn.utils.multiclass import unique_labels\n",
        "unique_labels(data[['size']])"
      ],
      "execution_count": 38,
      "outputs": [
        {
          "output_type": "execute_result",
          "data": {
            "text/plain": [
              "array([1, 2, 3])"
            ]
          },
          "metadata": {},
          "execution_count": 38
        }
      ]
    },
    {
      "cell_type": "code",
      "metadata": {
        "colab": {
          "base_uri": "https://localhost:8080/",
          "height": 295
        },
        "id": "Ap3oKTUT_LF4",
        "outputId": "ae680b0e-9105-40a2-c004-a54a2a00ee39"
      },
      "source": [
        "# Visulazie our dataset\n",
        "pt.scatter(data[['age']],data[['size']],marker='+',color='blue')\n",
        "pt.ylabel(\"size\")\n",
        "pt.xlabel(\"ages\")\n",
        "pt.title(\"size Dataset Chart\");"
      ],
      "execution_count": 39,
      "outputs": [
        {
          "output_type": "display_data",
          "data": {
            "image/png": "[encoded data removed]",
            "text/plain": [
              "<Figure size 432x288 with 1 Axes>"
            ]
          },
          "metadata": {
            "needs_background": "light"
          }
        }
      ]
    },
    {
      "cell_type": "code",
      "metadata": {
        "id": "MfGcwsXo_g4U"
      },
      "source": [
        "# for better eperince we have to split our data into train and test data from our data\n",
        "\n",
        "from sklearn.model_selection import train_test_split\n",
        "\n",
        "Xtrain,Xtest , ytrain , ytest = train_test_split(data[['age']], data[['size']], test_size=0.2, random_state=1)"
      ],
      "execution_count": 40,
      "outputs": []
    },
    {
      "cell_type": "code",
      "metadata": {
        "colab": {
          "base_uri": "https://localhost:8080/"
        },
        "id": "ojduZeUD_mHl",
        "outputId": "da8e3aea-733f-4fa5-c9b2-d535b33c3126"
      },
      "source": [
        "# i split 20% of my data set as test dataset and we can check what is the shape of this dataset\n",
        "# random state will keep the train data as same each time we run the code \"reomve it and print the data to see clearly what we mean\"\n",
        "print('tarin dataset shape {} , test dataset shape {} ' .format(len(Xtrain),len(Xtest)) )"
      ],
      "execution_count": 41,
      "outputs": [
        {
          "output_type": "stream",
          "name": "stdout",
          "text": [
            "tarin dataset shape 12 , test dataset shape 3 \n"
          ]
        }
      ]
    },
    {
      "cell_type": "code",
      "metadata": {
        "id": "phI7omON_vYn"
      },
      "source": [
        "# here will import Logistic Regression model from siket learn library\n",
        "from sklearn.linear_model import LogisticRegression\n",
        "\n",
        "LR = LogisticRegression()"
      ],
      "execution_count": 42,
      "outputs": []
    },
    {
      "cell_type": "code",
      "metadata": {
        "colab": {
          "base_uri": "https://localhost:8080/"
        },
        "id": "FFhX-U1m_wh-",
        "outputId": "e9a6bc7d-cd4e-434b-b934-a224ecc7c3c4"
      },
      "source": [
        "# here we will train the model for train dataset\n",
        "Train_model = LR.fit(Xtrain,ytrain)"
      ],
      "execution_count": 43,
      "outputs": [
        {
          "output_type": "stream",
          "name": "stderr",
          "text": [
            "/usr/local/lib/python3.7/dist-packages/sklearn/utils/validation.py:985: DataConversionWarning: A column-vector y was passed when a 1d array was expected. Please change the shape of y to (n_samples, ), for example using ravel().\n",
            "  y = column_or_1d(y, warn=True)\n"
          ]
        }
      ]
    },
    {
      "cell_type": "code",
      "metadata": {
        "colab": {
          "base_uri": "https://localhost:8080/"
        },
        "id": "WW7sVslyACWt",
        "outputId": "dd03c403-ea1d-4544-959d-4630af07d52a"
      },
      "source": [
        "# here we will test the model for test dataset\n",
        "Test_model = LR.predict(Xtest)\n",
        "Test_model"
      ],
      "execution_count": 44,
      "outputs": [
        {
          "output_type": "execute_result",
          "data": {
            "text/plain": [
              "array([3, 1, 1])"
            ]
          },
          "metadata": {},
          "execution_count": 44
        }
      ]
    },
    {
      "cell_type": "code",
      "metadata": {
        "colab": {
          "base_uri": "https://localhost:8080/"
        },
        "id": "0H3UX9ob_5tx",
        "outputId": "2b8a5003-8866-4913-ec87-6226484bb1da"
      },
      "source": [
        "# here we will add the results of our model to the ages we preducit the healty for.\n",
        "final_result = Xtest[['age']]\n",
        "final_result[['size']]= Test_model\n",
        "print(final_result)"
      ],
      "execution_count": 45,
      "outputs": [
        {
          "output_type": "stream",
          "name": "stdout",
          "text": [
            "   age  size\n",
            "3   30     3\n",
            "7   39     1\n",
            "6   35     1\n"
          ]
        }
      ]
    },
    {
      "cell_type": "code",
      "metadata": {
        "colab": {
          "base_uri": "https://localhost:8080/"
        },
        "id": "NY7b3qLxAHAx",
        "outputId": "53a67b8e-b63e-4444-efeb-8802d7c2dc1e"
      },
      "source": [
        "# to get the accuracy of your model pass the test data and the y test data \n",
        "LR.score(Xtest,ytest)"
      ],
      "execution_count": 46,
      "outputs": [
        {
          "output_type": "execute_result",
          "data": {
            "text/plain": [
              "0.6666666666666666"
            ]
          },
          "metadata": {},
          "execution_count": 46
        }
      ]
    },
    {
      "cell_type": "code",
      "metadata": {
        "colab": {
          "base_uri": "https://localhost:8080/"
        },
        "id": "6205vnsoA5Ti",
        "outputId": "478cf596-0c5b-4adb-c900-050d9384fb8f"
      },
      "source": [
        "# i tried if i pass age 54 what will be the healty status and i got 0 so try your age and tell me what you got\n",
        "LR.predict([[54]])"
      ],
      "execution_count": 60,
      "outputs": [
        {
          "output_type": "stream",
          "name": "stderr",
          "text": [
            "/usr/local/lib/python3.7/dist-packages/sklearn/base.py:446: UserWarning: X does not have valid feature names, but LogisticRegression was fitted with feature names\n",
            "  \"X does not have valid feature names, but\"\n"
          ]
        },
        {
          "output_type": "execute_result",
          "data": {
            "text/plain": [
              "array([1])"
            ]
          },
          "metadata": {},
          "execution_count": 60
        }
      ]
    }
  ]
}