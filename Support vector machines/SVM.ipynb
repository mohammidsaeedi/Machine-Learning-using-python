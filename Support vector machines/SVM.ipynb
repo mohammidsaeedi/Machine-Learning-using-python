{
  "nbformat": 4,
  "nbformat_minor": 0,
  "metadata": {
    "colab": {
      "name": "SVM.ipynb",
      "provenance": [],
      "collapsed_sections": []
    },
    "kernelspec": {
      "name": "python3",
      "display_name": "Python 3"
    },
    "language_info": {
      "name": "python"
    }
  },
  "cells": [
    {
      "cell_type": "markdown",
      "metadata": {
        "id": "FX0Rr5sPJO1T"
      },
      "source": [
        "**SVM**\n",
        "\n",
        "is a supervised machine learning algorithm capable of performing classification, regression and even outlier detection. The linear SVM classifier works by drawing a straight line between two classes. All the data points that fall on one side of the line will be labeled as one class and all the points that fall on the other side will be labeled as the second.(fore more [link text](https://towardsdatascience.com/support-vector-machine-python-example-d67d9b63f1c8))\n",
        "\n",
        "The LSVM algorithm will select a line that not only separates the two classes but stays as far away from the closest samples as possible. In fact, the “support vector” in “support vector machine” refers to two position vectors drawn from the origin to the points which dictate the decision boundary.( fore more [link text](https://www.coryjmaklin.com/machine-learning-algorithms-part-7-linear-support-vector-machine-in-python))\n",
        "\n",
        "I used K-Fold Cross Validation technique to train-and-test is tried multiple times.(for more [link text](https://scikit-learn.org/stable/modules/cross_validation.html)\n",
        "\n",
        "I used PCA to dimensionality reduction and for visualize dataset.(for more [link text](https://towardsdatascience.com/pca-using-python-scikit-learn-e653f8989e60)\n"
      ]
    },
    {
      "cell_type": "code",
      "metadata": {
        "id": "RguyEX8SWbVx"
      },
      "source": [
        "# import Libs\n",
        "import pandas as pd\n",
        "from sklearn import model_selection"
      ],
      "execution_count": 145,
      "outputs": []
    },
    {
      "cell_type": "code",
      "metadata": {
        "id": "Sl2sVTCX4LwI"
      },
      "source": [
        "data = pd.read_excel('algerian_forest_fire.xlsx')"
      ],
      "execution_count": 146,
      "outputs": []
    },
    {
      "cell_type": "code",
      "metadata": {
        "colab": {
          "base_uri": "https://localhost:8080/",
          "height": 206
        },
        "id": "0NcMg4Uw5Qai",
        "outputId": "becd71ba-538e-4727-8844-af62514f1c09"
      },
      "source": [
        "data.head()"
      ],
      "execution_count": 147,
      "outputs": [
        {
          "output_type": "execute_result",
          "data": {
            "text/html": [
              "<div>\n",
              "<style scoped>\n",
              "    .dataframe tbody tr th:only-of-type {\n",
              "        vertical-align: middle;\n",
              "    }\n",
              "\n",
              "    .dataframe tbody tr th {\n",
              "        vertical-align: top;\n",
              "    }\n",
              "\n",
              "    .dataframe thead th {\n",
              "        text-align: right;\n",
              "    }\n",
              "</style>\n",
              "<table border=\"1\" class=\"dataframe\">\n",
              "  <thead>\n",
              "    <tr style=\"text-align: right;\">\n",
              "      <th></th>\n",
              "      <th>day</th>\n",
              "      <th>month</th>\n",
              "      <th>year</th>\n",
              "      <th>Temperature</th>\n",
              "      <th>RH</th>\n",
              "      <th>Ws</th>\n",
              "      <th>Rain</th>\n",
              "      <th>FFMC</th>\n",
              "      <th>DMC</th>\n",
              "      <th>DC</th>\n",
              "      <th>ISI</th>\n",
              "      <th>BUI</th>\n",
              "      <th>FWI</th>\n",
              "      <th>y</th>\n",
              "    </tr>\n",
              "  </thead>\n",
              "  <tbody>\n",
              "    <tr>\n",
              "      <th>0</th>\n",
              "      <td>1</td>\n",
              "      <td>6</td>\n",
              "      <td>2012</td>\n",
              "      <td>29</td>\n",
              "      <td>57</td>\n",
              "      <td>18</td>\n",
              "      <td>0.0</td>\n",
              "      <td>65.7</td>\n",
              "      <td>3.4</td>\n",
              "      <td>7.6</td>\n",
              "      <td>1.3</td>\n",
              "      <td>3.4</td>\n",
              "      <td>0.5</td>\n",
              "      <td>0</td>\n",
              "    </tr>\n",
              "    <tr>\n",
              "      <th>1</th>\n",
              "      <td>2</td>\n",
              "      <td>6</td>\n",
              "      <td>2012</td>\n",
              "      <td>29</td>\n",
              "      <td>61</td>\n",
              "      <td>13</td>\n",
              "      <td>1.3</td>\n",
              "      <td>64.4</td>\n",
              "      <td>4.1</td>\n",
              "      <td>7.6</td>\n",
              "      <td>1.0</td>\n",
              "      <td>3.9</td>\n",
              "      <td>0.4</td>\n",
              "      <td>0</td>\n",
              "    </tr>\n",
              "    <tr>\n",
              "      <th>2</th>\n",
              "      <td>3</td>\n",
              "      <td>6</td>\n",
              "      <td>2012</td>\n",
              "      <td>26</td>\n",
              "      <td>82</td>\n",
              "      <td>22</td>\n",
              "      <td>13.1</td>\n",
              "      <td>47.1</td>\n",
              "      <td>2.5</td>\n",
              "      <td>7.1</td>\n",
              "      <td>0.3</td>\n",
              "      <td>2.7</td>\n",
              "      <td>0.1</td>\n",
              "      <td>0</td>\n",
              "    </tr>\n",
              "    <tr>\n",
              "      <th>3</th>\n",
              "      <td>4</td>\n",
              "      <td>6</td>\n",
              "      <td>2012</td>\n",
              "      <td>25</td>\n",
              "      <td>89</td>\n",
              "      <td>13</td>\n",
              "      <td>2.5</td>\n",
              "      <td>28.6</td>\n",
              "      <td>1.3</td>\n",
              "      <td>6.9</td>\n",
              "      <td>0.0</td>\n",
              "      <td>1.7</td>\n",
              "      <td>0.0</td>\n",
              "      <td>0</td>\n",
              "    </tr>\n",
              "    <tr>\n",
              "      <th>4</th>\n",
              "      <td>5</td>\n",
              "      <td>6</td>\n",
              "      <td>2012</td>\n",
              "      <td>27</td>\n",
              "      <td>77</td>\n",
              "      <td>16</td>\n",
              "      <td>0.0</td>\n",
              "      <td>64.8</td>\n",
              "      <td>3.0</td>\n",
              "      <td>14.2</td>\n",
              "      <td>1.2</td>\n",
              "      <td>3.9</td>\n",
              "      <td>0.5</td>\n",
              "      <td>0</td>\n",
              "    </tr>\n",
              "  </tbody>\n",
              "</table>\n",
              "</div>"
            ],
            "text/plain": [
              "   day  month  year  Temperature   RH   Ws  ...  DMC    DC  ISI  BUI  FWI  y\n",
              "0    1      6  2012           29   57   18  ...  3.4   7.6  1.3  3.4  0.5  0\n",
              "1    2      6  2012           29   61   13  ...  4.1   7.6  1.0  3.9  0.4  0\n",
              "2    3      6  2012           26   82   22  ...  2.5   7.1  0.3  2.7  0.1  0\n",
              "3    4      6  2012           25   89   13  ...  1.3   6.9  0.0  1.7  0.0  0\n",
              "4    5      6  2012           27   77   16  ...  3.0  14.2  1.2  3.9  0.5  0\n",
              "\n",
              "[5 rows x 14 columns]"
            ]
          },
          "metadata": {},
          "execution_count": 147
        }
      ]
    },
    {
      "cell_type": "markdown",
      "metadata": {
        "id": "Jqazq12c7pDD"
      },
      "source": [
        "Data expolration"
      ]
    },
    {
      "cell_type": "code",
      "metadata": {
        "colab": {
          "base_uri": "https://localhost:8080/"
        },
        "id": "L9qxopit7fA_",
        "outputId": "a14161b9-23f1-4984-b17d-fca6c344cc44"
      },
      "source": [
        "data.columns"
      ],
      "execution_count": 148,
      "outputs": [
        {
          "output_type": "execute_result",
          "data": {
            "text/plain": [
              "Index(['day', 'month', 'year', 'Temperature', ' RH', ' Ws', 'Rain ', 'FFMC',\n",
              "       'DMC', 'DC', 'ISI', 'BUI', 'FWI', 'y'],\n",
              "      dtype='object')"
            ]
          },
          "metadata": {},
          "execution_count": 148
        }
      ]
    },
    {
      "cell_type": "code",
      "metadata": {
        "colab": {
          "base_uri": "https://localhost:8080/"
        },
        "id": "AD6js2KBE-Oo",
        "outputId": "84cb3867-4981-431f-af3b-ae7452c0af17"
      },
      "source": [
        "data.dtypes"
      ],
      "execution_count": 149,
      "outputs": [
        {
          "output_type": "execute_result",
          "data": {
            "text/plain": [
              "day              int64\n",
              "month            int64\n",
              "year             int64\n",
              "Temperature      int64\n",
              " RH              int64\n",
              " Ws              int64\n",
              "Rain           float64\n",
              "FFMC           float64\n",
              "DMC            float64\n",
              "DC             float64\n",
              "ISI            float64\n",
              "BUI            float64\n",
              "FWI            float64\n",
              "y                int64\n",
              "dtype: object"
            ]
          },
          "metadata": {},
          "execution_count": 149
        }
      ]
    },
    {
      "cell_type": "code",
      "metadata": {
        "colab": {
          "base_uri": "https://localhost:8080/"
        },
        "id": "ZrT8X41YHxqT",
        "outputId": "0dafaff3-9ce7-4e2c-c244-9adf2293d68c"
      },
      "source": [
        "data.y.value_counts()"
      ],
      "execution_count": 150,
      "outputs": [
        {
          "output_type": "execute_result",
          "data": {
            "text/plain": [
              "0    63\n",
              "1    59\n",
              "Name: y, dtype: int64"
            ]
          },
          "metadata": {},
          "execution_count": 150
        }
      ]
    },
    {
      "cell_type": "code",
      "metadata": {
        "colab": {
          "base_uri": "https://localhost:8080/"
        },
        "id": "Ms1z_vQt3lF-",
        "outputId": "29d7734e-f445-48c8-aaed-6301846b8668"
      },
      "source": [
        "data.shape"
      ],
      "execution_count": 151,
      "outputs": [
        {
          "output_type": "execute_result",
          "data": {
            "text/plain": [
              "(122, 14)"
            ]
          },
          "metadata": {},
          "execution_count": 151
        }
      ]
    },
    {
      "cell_type": "markdown",
      "metadata": {
        "id": "0w5V4nQ5XcrF"
      },
      "source": [
        "Split data to features as X and labels as y"
      ]
    },
    {
      "cell_type": "code",
      "metadata": {
        "colab": {
          "base_uri": "https://localhost:8080/"
        },
        "id": "AmzIFnEQ3oAK",
        "outputId": "d0b45117-5ca0-478a-b425-8541824a0291"
      },
      "source": [
        "X = data.drop('y' , axis=1).values\n",
        "y = data['y'].values\n",
        "print(X.shape , '   ' , y.shape )"
      ],
      "execution_count": 152,
      "outputs": [
        {
          "output_type": "stream",
          "name": "stdout",
          "text": [
            "(122, 13)     (122,)\n"
          ]
        }
      ]
    },
    {
      "cell_type": "code",
      "metadata": {
        "id": "yC1jPxdPJ7dV"
      },
      "source": [
        "# Model imported\n",
        "from sklearn import svm"
      ],
      "execution_count": 153,
      "outputs": []
    },
    {
      "cell_type": "markdown",
      "metadata": {
        "id": "0dJnmP6nXslE"
      },
      "source": [
        "Split data into train and test"
      ]
    },
    {
      "cell_type": "code",
      "metadata": {
        "id": "sDGqQMoaKFpB"
      },
      "source": [
        "X_train, X_test, Y_train, Y_test = model_selection.train_test_split (X, y, test_size=0.2, random_state=0)\n",
        "\n",
        "# Build an SVC (Support Vector Classification) model using linear regression\n",
        "clf_ob = svm.SVC(kernel='linear', C=1).fit(X_train, Y_train)"
      ],
      "execution_count": 154,
      "outputs": []
    },
    {
      "cell_type": "code",
      "metadata": {
        "colab": {
          "base_uri": "https://localhost:8080/"
        },
        "id": "xhipB3sHKZhN",
        "outputId": "f7f2d749-641f-49cd-c9fc-ecc05d03697b"
      },
      "source": [
        "print(clf_ob.score(X_test, Y_test))"
      ],
      "execution_count": 155,
      "outputs": [
        {
          "output_type": "stream",
          "name": "stdout",
          "text": [
            "0.9795918367346939\n"
          ]
        }
      ]
    },
    {
      "cell_type": "markdown",
      "metadata": {
        "id": "tJYyNEkSKpnY"
      },
      "source": [
        "**K-Fold Cross Validation technique**\n",
        "\n",
        "Basic concept behind K-Fold cross validation is train-and-test is tried multiple times. So data is not split into just one training set and testing set but into multiple randomly assigned segments, K-segments.\n"
      ]
    },
    {
      "cell_type": "code",
      "metadata": {
        "colab": {
          "base_uri": "https://localhost:8080/"
        },
        "id": "qmRwemsKK7qM",
        "outputId": "89b17012-4d4c-49c4-bf9a-1c0f58037ba8"
      },
      "source": [
        "scores_res = model_selection.cross_val_score(clf_ob, X, y, cv=5)\n",
        "\n",
        "# Print the accuracy of each fold (i.e. 5 as above we asked cv 5)\n",
        "print(\"Results of the 5 folds score :  \",scores_res,'\\n')\n",
        "\n",
        "# And the mean accuracy of all 5 folds.\n",
        "print(\" The mean of the results : \",scores_res.mean())"
      ],
      "execution_count": 156,
      "outputs": [
        {
          "output_type": "stream",
          "name": "stdout",
          "text": [
            "Results of the 5 folds score :   [1.         1.         0.91666667 1.         1.        ] \n",
            "\n",
            " The mean of the results :  0.9833333333333332\n"
          ]
        }
      ]
    },
    {
      "cell_type": "markdown",
      "metadata": {
        "id": "XBPBxEJf9tx5"
      },
      "source": [
        "if dataset to be classified has a lot of features and it is big in size as well then often it impacts management as well as analysis speed.\n",
        "\n",
        "For this reason, dimensionality reduction techniques helps to figure out way to reduce higher dimensional information into lower dimensional information. Not only can that make it easier to look at, and classify things, but it can also be useful for things like compressing data.\n",
        "\n",
        "Usually when Dimensionality Reduction topic is talked over, PCA (Principal Component Analysis) technique is reffered.\n",
        "\n",
        "StandardScaler used to help you standardize the dataset’s features onto unit scale (mean = 0 and variance = 1) which is a requirement for the optimal performance of many machine learning algorithms."
      ]
    },
    {
      "cell_type": "code",
      "metadata": {
        "id": "4lpO8xq89iSW"
      },
      "source": [
        "from sklearn.decomposition import PCA\n",
        "from sklearn.preprocessing import StandardScaler\n",
        "\n",
        "# Standardizing the features\n",
        "X = StandardScaler().fit_transform(X)"
      ],
      "execution_count": 157,
      "outputs": []
    },
    {
      "cell_type": "code",
      "metadata": {
        "id": "q1lSItci-ja3"
      },
      "source": [
        "#Here n_components = 2 means, transform into a 2-Dimensional dataset\n",
        "pca = PCA(n_components=2)\n",
        "principalComponents = pca.fit_transform(X)\n",
        "\n",
        "principalDf = pd.DataFrame(data = principalComponents\n",
        "             , columns = ['principal component 1', 'principal component 2'])"
      ],
      "execution_count": 158,
      "outputs": []
    },
    {
      "cell_type": "markdown",
      "metadata": {
        "id": "o8p2-s4oZNuR"
      },
      "source": [
        "**Importent**\n",
        "\n",
        "The explained variance tells you how much information (variance) can be attributed to each of the principal components. This is important as while you can convert 4 dimensional space to 2 dimensional space, you lose some of the variance (information) when you do this. By using the attribute explained_variance_ratio_, you can see that the first principal component contains 52.44% of the variance and the second principal component contains 15.32% of the variance. Together, the two components contain 95.80% of the information."
      ]
    },
    {
      "cell_type": "code",
      "metadata": {
        "colab": {
          "base_uri": "https://localhost:8080/"
        },
        "id": "dT1SKDDkGbqd",
        "outputId": "5040cc02-2e56-4950-b3d7-1798c03c826a"
      },
      "source": [
        "pca.explained_variance_ratio_"
      ],
      "execution_count": 159,
      "outputs": [
        {
          "output_type": "execute_result",
          "data": {
            "text/plain": [
              "array([0.52440147, 0.15328577])"
            ]
          },
          "metadata": {},
          "execution_count": 159
        }
      ]
    },
    {
      "cell_type": "code",
      "metadata": {
        "colab": {
          "base_uri": "https://localhost:8080/"
        },
        "id": "oaOA_F-QFzNl",
        "outputId": "7c46e5c3-454a-4201-eec6-475e441c16fd"
      },
      "source": [
        "print('‘Preserved Variance:’', sum(pca.explained_variance_ratio_))"
      ],
      "execution_count": 160,
      "outputs": [
        {
          "output_type": "stream",
          "name": "stdout",
          "text": [
            "‘Preserved Variance:’ 0.6776872374260652\n"
          ]
        }
      ]
    },
    {
      "cell_type": "code",
      "metadata": {
        "colab": {
          "base_uri": "https://localhost:8080/"
        },
        "id": "lE7mJ7bv_Bb3",
        "outputId": "5a7f275c-93af-4a59-d32e-30c857f309d9"
      },
      "source": [
        "# conect labels with 2 dim PCA\n",
        "finalDf = pd.concat([principalDf, data[['y']]], axis = 1)\n",
        "\n",
        "print(\"data before PCA \\n\",data[ : -1].head());\n",
        "print(\"data after PCA : \\n\",finalDf.head());\n"
      ],
      "execution_count": 161,
      "outputs": [
        {
          "output_type": "stream",
          "name": "stdout",
          "text": [
            "data before PCA \n",
            "    day  month  year  Temperature   RH   Ws  ...  DMC    DC  ISI  BUI  FWI  y\n",
            "0    1      6  2012           29   57   18  ...  3.4   7.6  1.3  3.4  0.5  0\n",
            "1    2      6  2012           29   61   13  ...  4.1   7.6  1.0  3.9  0.4  0\n",
            "2    3      6  2012           26   82   22  ...  2.5   7.1  0.3  2.7  0.1  0\n",
            "3    4      6  2012           25   89   13  ...  1.3   6.9  0.0  1.7  0.0  0\n",
            "4    5      6  2012           27   77   16  ...  3.0  14.2  1.2  3.9  0.5  0\n",
            "\n",
            "[5 rows x 14 columns]\n",
            "data after PCA : \n",
            "    principal component 1  principal component 2  y\n",
            "0              -1.945728              -1.005557  0\n",
            "1              -2.083769              -1.477651  0\n",
            "2              -4.368066               3.413377  0\n",
            "3              -4.156084               0.568182  0\n",
            "4              -2.427556              -0.379260  0\n"
          ]
        }
      ]
    },
    {
      "cell_type": "markdown",
      "metadata": {
        "id": "UXJ4kmoHZ6pC"
      },
      "source": [
        "**Visualize 2D**"
      ]
    },
    {
      "cell_type": "code",
      "metadata": {
        "colab": {
          "base_uri": "https://localhost:8080/",
          "height": 523
        },
        "id": "Gd5M4oTPEybj",
        "outputId": "fc9e97eb-96ef-4c8e-e6a9-1c3fd2d0a7c1"
      },
      "source": [
        "fig = plt.figure(figsize = (8,8))\n",
        "ax = fig.add_subplot(1,1,1) \n",
        "ax.set_xlabel('Principal Component 1', fontsize = 15)\n",
        "ax.set_ylabel('Principal Component 2', fontsize = 15)\n",
        "ax.set_title('2 component PCA', fontsize = 20)\n",
        "targets = [0, 1]\n",
        "colors = ['r', 'g']\n",
        "for target, color in zip(targets,colors):\n",
        "    indicesToKeep = finalDf['y'] == target\n",
        "    ax.scatter(finalDf.loc[indicesToKeep, 'principal component 1']\n",
        "               , finalDf.loc[indicesToKeep, 'principal component 2']\n",
        "               , c = color\n",
        "               , s = 50)\n",
        "ax.legend(targets)\n",
        "ax.grid()"
      ],
      "execution_count": 162,
      "outputs": [
        {
          "output_type": "display_data",
          "data": {
            "image/png": "[encoded data removed]",
            "text/plain": [
              "<Figure size 576x576 with 1 Axes>"
            ]
          },
          "metadata": {
            "needs_background": "light"
          }
        }
      ]
    }
  ]
}