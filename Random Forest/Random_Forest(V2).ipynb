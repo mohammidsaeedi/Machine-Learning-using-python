{
  "nbformat": 4,
  "nbformat_minor": 0,
  "metadata": {
    "colab": {
      "name": "Random Forest.ipynb",
      "provenance": [],
      "collapsed_sections": []
    },
    "kernelspec": {
      "name": "python3",
      "display_name": "Python 3"
    },
    "language_info": {
      "name": "python"
    }
  },
  "cells": [
    {
      "cell_type": "markdown",
      "metadata": {
        "id": "WqPHCtWt50PB"
      },
      "source": [
        "**Random Forest**\n",
        "\n",
        "Is an ensemble learning method for classification, regression and other tasks that operates by constructing a multitude of decision trees at training time.\n",
        "\n",
        "For classification tasks, the output of the random forest is the class selected by most trees. For regression tasks, the mean or average prediction of the individual trees is returned.\n",
        "\n",
        "See the difference between Random Forest and Decision Tree.[link text](https://www.upgrad.com/blog/random-forest-vs-decision-tree/)\n",
        "\n",
        "dataset Description [link text](https://archive-beta.ics.uci.edu/ml/datasets/dry+bean+dataset)"
      ]
    },
    {
      "cell_type": "code",
      "metadata": {
        "id": "NOuvdvkZ5x1V"
      },
      "source": [
        "# Import LIBs\n",
        "import pandas as pd\n",
        "from io import StringIO"
      ],
      "execution_count": 118,
      "outputs": []
    },
    {
      "cell_type": "code",
      "metadata": {
        "colab": {
          "base_uri": "https://localhost:8080/",
          "height": 444
        },
        "id": "AzDHU55H2gmk",
        "outputId": "4c4ead77-a85e-4f8c-ea1f-6480fd308db3"
      },
      "source": [
        "# load the dataset\n",
        "data = pd.read_excel(\"Dry_Bean_Dataset.xlsx\")\n",
        "data"
      ],
      "execution_count": 119,
      "outputs": [
        {
          "output_type": "execute_result",
          "data": {
            "text/html": [
              "<div>\n",
              "<style scoped>\n",
              "    .dataframe tbody tr th:only-of-type {\n",
              "        vertical-align: middle;\n",
              "    }\n",
              "\n",
              "    .dataframe tbody tr th {\n",
              "        vertical-align: top;\n",
              "    }\n",
              "\n",
              "    .dataframe thead th {\n",
              "        text-align: right;\n",
              "    }\n",
              "</style>\n",
              "<table border=\"1\" class=\"dataframe\">\n",
              "  <thead>\n",
              "    <tr style=\"text-align: right;\">\n",
              "      <th></th>\n",
              "      <th>Area</th>\n",
              "      <th>Perimeter</th>\n",
              "      <th>MajorAxisLength</th>\n",
              "      <th>MinorAxisLength</th>\n",
              "      <th>AspectRation</th>\n",
              "      <th>Eccentricity</th>\n",
              "      <th>ConvexArea</th>\n",
              "      <th>EquivDiameter</th>\n",
              "      <th>Extent</th>\n",
              "      <th>Solidity</th>\n",
              "      <th>roundness</th>\n",
              "      <th>Compactness</th>\n",
              "      <th>ShapeFactor1</th>\n",
              "      <th>ShapeFactor2</th>\n",
              "      <th>ShapeFactor3</th>\n",
              "      <th>ShapeFactor4</th>\n",
              "      <th>Class</th>\n",
              "    </tr>\n",
              "  </thead>\n",
              "  <tbody>\n",
              "    <tr>\n",
              "      <th>0</th>\n",
              "      <td>28395</td>\n",
              "      <td>610.291</td>\n",
              "      <td>208.178117</td>\n",
              "      <td>173.888747</td>\n",
              "      <td>1.197191</td>\n",
              "      <td>0.549812</td>\n",
              "      <td>28715</td>\n",
              "      <td>190.141097</td>\n",
              "      <td>0.763923</td>\n",
              "      <td>0.988856</td>\n",
              "      <td>0.958027</td>\n",
              "      <td>0.913358</td>\n",
              "      <td>0.007332</td>\n",
              "      <td>0.003147</td>\n",
              "      <td>0.834222</td>\n",
              "      <td>0.998724</td>\n",
              "      <td>SEKER</td>\n",
              "    </tr>\n",
              "    <tr>\n",
              "      <th>1</th>\n",
              "      <td>28734</td>\n",
              "      <td>638.018</td>\n",
              "      <td>200.524796</td>\n",
              "      <td>182.734419</td>\n",
              "      <td>1.097356</td>\n",
              "      <td>0.411785</td>\n",
              "      <td>29172</td>\n",
              "      <td>191.272750</td>\n",
              "      <td>0.783968</td>\n",
              "      <td>0.984986</td>\n",
              "      <td>0.887034</td>\n",
              "      <td>0.953861</td>\n",
              "      <td>0.006979</td>\n",
              "      <td>0.003564</td>\n",
              "      <td>0.909851</td>\n",
              "      <td>0.998430</td>\n",
              "      <td>SEKER</td>\n",
              "    </tr>\n",
              "    <tr>\n",
              "      <th>2</th>\n",
              "      <td>29380</td>\n",
              "      <td>624.110</td>\n",
              "      <td>212.826130</td>\n",
              "      <td>175.931143</td>\n",
              "      <td>1.209713</td>\n",
              "      <td>0.562727</td>\n",
              "      <td>29690</td>\n",
              "      <td>193.410904</td>\n",
              "      <td>0.778113</td>\n",
              "      <td>0.989559</td>\n",
              "      <td>0.947849</td>\n",
              "      <td>0.908774</td>\n",
              "      <td>0.007244</td>\n",
              "      <td>0.003048</td>\n",
              "      <td>0.825871</td>\n",
              "      <td>0.999066</td>\n",
              "      <td>SEKER</td>\n",
              "    </tr>\n",
              "    <tr>\n",
              "      <th>3</th>\n",
              "      <td>30008</td>\n",
              "      <td>645.884</td>\n",
              "      <td>210.557999</td>\n",
              "      <td>182.516516</td>\n",
              "      <td>1.153638</td>\n",
              "      <td>0.498616</td>\n",
              "      <td>30724</td>\n",
              "      <td>195.467062</td>\n",
              "      <td>0.782681</td>\n",
              "      <td>0.976696</td>\n",
              "      <td>0.903936</td>\n",
              "      <td>0.928329</td>\n",
              "      <td>0.007017</td>\n",
              "      <td>0.003215</td>\n",
              "      <td>0.861794</td>\n",
              "      <td>0.994199</td>\n",
              "      <td>SEKER</td>\n",
              "    </tr>\n",
              "    <tr>\n",
              "      <th>4</th>\n",
              "      <td>30140</td>\n",
              "      <td>620.134</td>\n",
              "      <td>201.847882</td>\n",
              "      <td>190.279279</td>\n",
              "      <td>1.060798</td>\n",
              "      <td>0.333680</td>\n",
              "      <td>30417</td>\n",
              "      <td>195.896503</td>\n",
              "      <td>0.773098</td>\n",
              "      <td>0.990893</td>\n",
              "      <td>0.984877</td>\n",
              "      <td>0.970516</td>\n",
              "      <td>0.006697</td>\n",
              "      <td>0.003665</td>\n",
              "      <td>0.941900</td>\n",
              "      <td>0.999166</td>\n",
              "      <td>SEKER</td>\n",
              "    </tr>\n",
              "    <tr>\n",
              "      <th>...</th>\n",
              "      <td>...</td>\n",
              "      <td>...</td>\n",
              "      <td>...</td>\n",
              "      <td>...</td>\n",
              "      <td>...</td>\n",
              "      <td>...</td>\n",
              "      <td>...</td>\n",
              "      <td>...</td>\n",
              "      <td>...</td>\n",
              "      <td>...</td>\n",
              "      <td>...</td>\n",
              "      <td>...</td>\n",
              "      <td>...</td>\n",
              "      <td>...</td>\n",
              "      <td>...</td>\n",
              "      <td>...</td>\n",
              "      <td>...</td>\n",
              "    </tr>\n",
              "    <tr>\n",
              "      <th>13606</th>\n",
              "      <td>42097</td>\n",
              "      <td>759.696</td>\n",
              "      <td>288.721612</td>\n",
              "      <td>185.944705</td>\n",
              "      <td>1.552728</td>\n",
              "      <td>0.765002</td>\n",
              "      <td>42508</td>\n",
              "      <td>231.515799</td>\n",
              "      <td>0.714574</td>\n",
              "      <td>0.990331</td>\n",
              "      <td>0.916603</td>\n",
              "      <td>0.801865</td>\n",
              "      <td>0.006858</td>\n",
              "      <td>0.001749</td>\n",
              "      <td>0.642988</td>\n",
              "      <td>0.998385</td>\n",
              "      <td>DERMASON</td>\n",
              "    </tr>\n",
              "    <tr>\n",
              "      <th>13607</th>\n",
              "      <td>42101</td>\n",
              "      <td>757.499</td>\n",
              "      <td>281.576392</td>\n",
              "      <td>190.713136</td>\n",
              "      <td>1.476439</td>\n",
              "      <td>0.735702</td>\n",
              "      <td>42494</td>\n",
              "      <td>231.526798</td>\n",
              "      <td>0.799943</td>\n",
              "      <td>0.990752</td>\n",
              "      <td>0.922015</td>\n",
              "      <td>0.822252</td>\n",
              "      <td>0.006688</td>\n",
              "      <td>0.001886</td>\n",
              "      <td>0.676099</td>\n",
              "      <td>0.998219</td>\n",
              "      <td>DERMASON</td>\n",
              "    </tr>\n",
              "    <tr>\n",
              "      <th>13608</th>\n",
              "      <td>42139</td>\n",
              "      <td>759.321</td>\n",
              "      <td>281.539928</td>\n",
              "      <td>191.187979</td>\n",
              "      <td>1.472582</td>\n",
              "      <td>0.734065</td>\n",
              "      <td>42569</td>\n",
              "      <td>231.631261</td>\n",
              "      <td>0.729932</td>\n",
              "      <td>0.989899</td>\n",
              "      <td>0.918424</td>\n",
              "      <td>0.822730</td>\n",
              "      <td>0.006681</td>\n",
              "      <td>0.001888</td>\n",
              "      <td>0.676884</td>\n",
              "      <td>0.996767</td>\n",
              "      <td>DERMASON</td>\n",
              "    </tr>\n",
              "    <tr>\n",
              "      <th>13609</th>\n",
              "      <td>42147</td>\n",
              "      <td>763.779</td>\n",
              "      <td>283.382636</td>\n",
              "      <td>190.275731</td>\n",
              "      <td>1.489326</td>\n",
              "      <td>0.741055</td>\n",
              "      <td>42667</td>\n",
              "      <td>231.653248</td>\n",
              "      <td>0.705389</td>\n",
              "      <td>0.987813</td>\n",
              "      <td>0.907906</td>\n",
              "      <td>0.817457</td>\n",
              "      <td>0.006724</td>\n",
              "      <td>0.001852</td>\n",
              "      <td>0.668237</td>\n",
              "      <td>0.995222</td>\n",
              "      <td>DERMASON</td>\n",
              "    </tr>\n",
              "    <tr>\n",
              "      <th>13610</th>\n",
              "      <td>42159</td>\n",
              "      <td>772.237</td>\n",
              "      <td>295.142741</td>\n",
              "      <td>182.204716</td>\n",
              "      <td>1.619841</td>\n",
              "      <td>0.786693</td>\n",
              "      <td>42600</td>\n",
              "      <td>231.686223</td>\n",
              "      <td>0.788962</td>\n",
              "      <td>0.989648</td>\n",
              "      <td>0.888380</td>\n",
              "      <td>0.784997</td>\n",
              "      <td>0.007001</td>\n",
              "      <td>0.001640</td>\n",
              "      <td>0.616221</td>\n",
              "      <td>0.998180</td>\n",
              "      <td>DERMASON</td>\n",
              "    </tr>\n",
              "  </tbody>\n",
              "</table>\n",
              "<p>13611 rows × 17 columns</p>\n",
              "</div>"
            ],
            "text/plain": [
              "        Area  Perimeter  MajorAxisLength  ...  ShapeFactor3  ShapeFactor4     Class\n",
              "0      28395    610.291       208.178117  ...      0.834222      0.998724     SEKER\n",
              "1      28734    638.018       200.524796  ...      0.909851      0.998430     SEKER\n",
              "2      29380    624.110       212.826130  ...      0.825871      0.999066     SEKER\n",
              "3      30008    645.884       210.557999  ...      0.861794      0.994199     SEKER\n",
              "4      30140    620.134       201.847882  ...      0.941900      0.999166     SEKER\n",
              "...      ...        ...              ...  ...           ...           ...       ...\n",
              "13606  42097    759.696       288.721612  ...      0.642988      0.998385  DERMASON\n",
              "13607  42101    757.499       281.576392  ...      0.676099      0.998219  DERMASON\n",
              "13608  42139    759.321       281.539928  ...      0.676884      0.996767  DERMASON\n",
              "13609  42147    763.779       283.382636  ...      0.668237      0.995222  DERMASON\n",
              "13610  42159    772.237       295.142741  ...      0.616221      0.998180  DERMASON\n",
              "\n",
              "[13611 rows x 17 columns]"
            ]
          },
          "metadata": {},
          "execution_count": 119
        }
      ]
    },
    {
      "cell_type": "code",
      "metadata": {
        "colab": {
          "base_uri": "https://localhost:8080/"
        },
        "id": "Cij5vif1rJ59",
        "outputId": "ac00f038-080a-4668-dd49-f13bca3effef"
      },
      "source": [
        "# Print THe columns names\n",
        "data.columns"
      ],
      "execution_count": 120,
      "outputs": [
        {
          "output_type": "execute_result",
          "data": {
            "text/plain": [
              "Index(['Area', 'Perimeter', 'MajorAxisLength', 'MinorAxisLength',\n",
              "       'AspectRation', 'Eccentricity', 'ConvexArea', 'EquivDiameter', 'Extent',\n",
              "       'Solidity', 'roundness', 'Compactness', 'ShapeFactor1', 'ShapeFactor2',\n",
              "       'ShapeFactor3', 'ShapeFactor4', 'Class'],\n",
              "      dtype='object')"
            ]
          },
          "metadata": {},
          "execution_count": 120
        }
      ]
    },
    {
      "cell_type": "code",
      "metadata": {
        "colab": {
          "base_uri": "https://localhost:8080/"
        },
        "id": "HeOs1yPNfGEf",
        "outputId": "bbb69801-8f9b-4670-c839-d6307a6c3fb0"
      },
      "source": [
        "data.shape"
      ],
      "execution_count": 121,
      "outputs": [
        {
          "output_type": "execute_result",
          "data": {
            "text/plain": [
              "(13611, 17)"
            ]
          },
          "metadata": {},
          "execution_count": 121
        }
      ]
    },
    {
      "cell_type": "markdown",
      "metadata": {
        "id": "nbSgCfiDoGT_"
      },
      "source": [
        "**Clean The dataset**"
      ]
    },
    {
      "cell_type": "code",
      "metadata": {
        "colab": {
          "base_uri": "https://localhost:8080/"
        },
        "id": "D-DHW1EMoFSo",
        "outputId": "d1351a22-0f55-451d-ff53-37cad47aa65a"
      },
      "source": [
        "# check dublicated rows\n",
        "data_dublicated = data.duplicated()\n",
        "data_dublicated.value_counts()"
      ],
      "execution_count": 122,
      "outputs": [
        {
          "output_type": "execute_result",
          "data": {
            "text/plain": [
              "False    13543\n",
              "True        68\n",
              "dtype: int64"
            ]
          },
          "metadata": {},
          "execution_count": 122
        }
      ]
    },
    {
      "cell_type": "code",
      "metadata": {
        "colab": {
          "base_uri": "https://localhost:8080/",
          "height": 444
        },
        "id": "_iO8UOORoNUO",
        "outputId": "64b2e02f-9680-417d-d726-4c467bd377f9"
      },
      "source": [
        "# Print the duplicated rows\n",
        "duplicate = data[data.duplicated()]\n",
        "duplicate"
      ],
      "execution_count": 123,
      "outputs": [
        {
          "output_type": "execute_result",
          "data": {
            "text/html": [
              "<div>\n",
              "<style scoped>\n",
              "    .dataframe tbody tr th:only-of-type {\n",
              "        vertical-align: middle;\n",
              "    }\n",
              "\n",
              "    .dataframe tbody tr th {\n",
              "        vertical-align: top;\n",
              "    }\n",
              "\n",
              "    .dataframe thead th {\n",
              "        text-align: right;\n",
              "    }\n",
              "</style>\n",
              "<table border=\"1\" class=\"dataframe\">\n",
              "  <thead>\n",
              "    <tr style=\"text-align: right;\">\n",
              "      <th></th>\n",
              "      <th>Area</th>\n",
              "      <th>Perimeter</th>\n",
              "      <th>MajorAxisLength</th>\n",
              "      <th>MinorAxisLength</th>\n",
              "      <th>AspectRation</th>\n",
              "      <th>Eccentricity</th>\n",
              "      <th>ConvexArea</th>\n",
              "      <th>EquivDiameter</th>\n",
              "      <th>Extent</th>\n",
              "      <th>Solidity</th>\n",
              "      <th>roundness</th>\n",
              "      <th>Compactness</th>\n",
              "      <th>ShapeFactor1</th>\n",
              "      <th>ShapeFactor2</th>\n",
              "      <th>ShapeFactor3</th>\n",
              "      <th>ShapeFactor4</th>\n",
              "      <th>Class</th>\n",
              "    </tr>\n",
              "  </thead>\n",
              "  <tbody>\n",
              "    <tr>\n",
              "      <th>5505</th>\n",
              "      <td>33518</td>\n",
              "      <td>702.956</td>\n",
              "      <td>277.571399</td>\n",
              "      <td>154.305581</td>\n",
              "      <td>1.798842</td>\n",
              "      <td>0.831240</td>\n",
              "      <td>34023</td>\n",
              "      <td>206.582775</td>\n",
              "      <td>0.808383</td>\n",
              "      <td>0.985157</td>\n",
              "      <td>0.852377</td>\n",
              "      <td>0.744251</td>\n",
              "      <td>0.008281</td>\n",
              "      <td>0.001567</td>\n",
              "      <td>0.553909</td>\n",
              "      <td>0.996396</td>\n",
              "      <td>HOROZ</td>\n",
              "    </tr>\n",
              "    <tr>\n",
              "      <th>5509</th>\n",
              "      <td>33954</td>\n",
              "      <td>716.750</td>\n",
              "      <td>277.368480</td>\n",
              "      <td>156.356326</td>\n",
              "      <td>1.773951</td>\n",
              "      <td>0.825970</td>\n",
              "      <td>34420</td>\n",
              "      <td>207.922042</td>\n",
              "      <td>0.799482</td>\n",
              "      <td>0.986461</td>\n",
              "      <td>0.830549</td>\n",
              "      <td>0.749624</td>\n",
              "      <td>0.008169</td>\n",
              "      <td>0.001591</td>\n",
              "      <td>0.561936</td>\n",
              "      <td>0.996847</td>\n",
              "      <td>HOROZ</td>\n",
              "    </tr>\n",
              "    <tr>\n",
              "      <th>5548</th>\n",
              "      <td>38427</td>\n",
              "      <td>756.323</td>\n",
              "      <td>306.533886</td>\n",
              "      <td>160.591784</td>\n",
              "      <td>1.908777</td>\n",
              "      <td>0.851782</td>\n",
              "      <td>38773</td>\n",
              "      <td>221.193978</td>\n",
              "      <td>0.796976</td>\n",
              "      <td>0.991076</td>\n",
              "      <td>0.844174</td>\n",
              "      <td>0.721597</td>\n",
              "      <td>0.007977</td>\n",
              "      <td>0.001334</td>\n",
              "      <td>0.520702</td>\n",
              "      <td>0.993905</td>\n",
              "      <td>HOROZ</td>\n",
              "    </tr>\n",
              "    <tr>\n",
              "      <th>5554</th>\n",
              "      <td>38891</td>\n",
              "      <td>791.343</td>\n",
              "      <td>319.499996</td>\n",
              "      <td>156.869619</td>\n",
              "      <td>2.036723</td>\n",
              "      <td>0.871168</td>\n",
              "      <td>39651</td>\n",
              "      <td>222.525412</td>\n",
              "      <td>0.650025</td>\n",
              "      <td>0.980833</td>\n",
              "      <td>0.780422</td>\n",
              "      <td>0.696480</td>\n",
              "      <td>0.008215</td>\n",
              "      <td>0.001192</td>\n",
              "      <td>0.485085</td>\n",
              "      <td>0.987983</td>\n",
              "      <td>HOROZ</td>\n",
              "    </tr>\n",
              "    <tr>\n",
              "      <th>5599</th>\n",
              "      <td>40804</td>\n",
              "      <td>790.802</td>\n",
              "      <td>323.475648</td>\n",
              "      <td>163.287717</td>\n",
              "      <td>1.981016</td>\n",
              "      <td>0.863241</td>\n",
              "      <td>41636</td>\n",
              "      <td>227.932592</td>\n",
              "      <td>0.787570</td>\n",
              "      <td>0.980017</td>\n",
              "      <td>0.819931</td>\n",
              "      <td>0.704636</td>\n",
              "      <td>0.007928</td>\n",
              "      <td>0.001206</td>\n",
              "      <td>0.496512</td>\n",
              "      <td>0.983598</td>\n",
              "      <td>HOROZ</td>\n",
              "    </tr>\n",
              "    <tr>\n",
              "      <th>...</th>\n",
              "      <td>...</td>\n",
              "      <td>...</td>\n",
              "      <td>...</td>\n",
              "      <td>...</td>\n",
              "      <td>...</td>\n",
              "      <td>...</td>\n",
              "      <td>...</td>\n",
              "      <td>...</td>\n",
              "      <td>...</td>\n",
              "      <td>...</td>\n",
              "      <td>...</td>\n",
              "      <td>...</td>\n",
              "      <td>...</td>\n",
              "      <td>...</td>\n",
              "      <td>...</td>\n",
              "      <td>...</td>\n",
              "      <td>...</td>\n",
              "    </tr>\n",
              "    <tr>\n",
              "      <th>7263</th>\n",
              "      <td>63408</td>\n",
              "      <td>1005.966</td>\n",
              "      <td>412.551649</td>\n",
              "      <td>196.337705</td>\n",
              "      <td>2.101235</td>\n",
              "      <td>0.879494</td>\n",
              "      <td>64200</td>\n",
              "      <td>284.136539</td>\n",
              "      <td>0.798791</td>\n",
              "      <td>0.987664</td>\n",
              "      <td>0.787385</td>\n",
              "      <td>0.688730</td>\n",
              "      <td>0.006506</td>\n",
              "      <td>0.000903</td>\n",
              "      <td>0.474348</td>\n",
              "      <td>0.996718</td>\n",
              "      <td>HOROZ</td>\n",
              "    </tr>\n",
              "    <tr>\n",
              "      <th>7278</th>\n",
              "      <td>63882</td>\n",
              "      <td>1004.206</td>\n",
              "      <td>411.263403</td>\n",
              "      <td>198.765453</td>\n",
              "      <td>2.069089</td>\n",
              "      <td>0.875452</td>\n",
              "      <td>64663</td>\n",
              "      <td>285.196579</td>\n",
              "      <td>0.754705</td>\n",
              "      <td>0.987922</td>\n",
              "      <td>0.796054</td>\n",
              "      <td>0.693465</td>\n",
              "      <td>0.006438</td>\n",
              "      <td>0.000918</td>\n",
              "      <td>0.480893</td>\n",
              "      <td>0.995010</td>\n",
              "      <td>HOROZ</td>\n",
              "    </tr>\n",
              "    <tr>\n",
              "      <th>7285</th>\n",
              "      <td>63948</td>\n",
              "      <td>996.497</td>\n",
              "      <td>412.297178</td>\n",
              "      <td>198.877557</td>\n",
              "      <td>2.073121</td>\n",
              "      <td>0.875971</td>\n",
              "      <td>64641</td>\n",
              "      <td>285.343867</td>\n",
              "      <td>0.777909</td>\n",
              "      <td>0.989279</td>\n",
              "      <td>0.809254</td>\n",
              "      <td>0.692083</td>\n",
              "      <td>0.006447</td>\n",
              "      <td>0.000912</td>\n",
              "      <td>0.478979</td>\n",
              "      <td>0.992981</td>\n",
              "      <td>HOROZ</td>\n",
              "    </tr>\n",
              "    <tr>\n",
              "      <th>7340</th>\n",
              "      <td>65766</td>\n",
              "      <td>1035.842</td>\n",
              "      <td>406.416622</td>\n",
              "      <td>207.242369</td>\n",
              "      <td>1.961069</td>\n",
              "      <td>0.860218</td>\n",
              "      <td>66698</td>\n",
              "      <td>289.371512</td>\n",
              "      <td>0.792295</td>\n",
              "      <td>0.986027</td>\n",
              "      <td>0.770237</td>\n",
              "      <td>0.712007</td>\n",
              "      <td>0.006180</td>\n",
              "      <td>0.000980</td>\n",
              "      <td>0.506954</td>\n",
              "      <td>0.994172</td>\n",
              "      <td>HOROZ</td>\n",
              "    </tr>\n",
              "    <tr>\n",
              "      <th>7342</th>\n",
              "      <td>65781</td>\n",
              "      <td>1039.257</td>\n",
              "      <td>409.713859</td>\n",
              "      <td>204.992832</td>\n",
              "      <td>1.998674</td>\n",
              "      <td>0.865834</td>\n",
              "      <td>66762</td>\n",
              "      <td>289.404510</td>\n",
              "      <td>0.642549</td>\n",
              "      <td>0.985306</td>\n",
              "      <td>0.765358</td>\n",
              "      <td>0.706358</td>\n",
              "      <td>0.006228</td>\n",
              "      <td>0.000956</td>\n",
              "      <td>0.498941</td>\n",
              "      <td>0.997221</td>\n",
              "      <td>HOROZ</td>\n",
              "    </tr>\n",
              "  </tbody>\n",
              "</table>\n",
              "<p>68 rows × 17 columns</p>\n",
              "</div>"
            ],
            "text/plain": [
              "       Area  Perimeter  MajorAxisLength  ...  ShapeFactor3  ShapeFactor4  Class\n",
              "5505  33518    702.956       277.571399  ...      0.553909      0.996396  HOROZ\n",
              "5509  33954    716.750       277.368480  ...      0.561936      0.996847  HOROZ\n",
              "5548  38427    756.323       306.533886  ...      0.520702      0.993905  HOROZ\n",
              "5554  38891    791.343       319.499996  ...      0.485085      0.987983  HOROZ\n",
              "5599  40804    790.802       323.475648  ...      0.496512      0.983598  HOROZ\n",
              "...     ...        ...              ...  ...           ...           ...    ...\n",
              "7263  63408   1005.966       412.551649  ...      0.474348      0.996718  HOROZ\n",
              "7278  63882   1004.206       411.263403  ...      0.480893      0.995010  HOROZ\n",
              "7285  63948    996.497       412.297178  ...      0.478979      0.992981  HOROZ\n",
              "7340  65766   1035.842       406.416622  ...      0.506954      0.994172  HOROZ\n",
              "7342  65781   1039.257       409.713859  ...      0.498941      0.997221  HOROZ\n",
              "\n",
              "[68 rows x 17 columns]"
            ]
          },
          "metadata": {},
          "execution_count": 123
        }
      ]
    },
    {
      "cell_type": "code",
      "metadata": {
        "colab": {
          "base_uri": "https://localhost:8080/"
        },
        "id": "R_8t1MTdoPVP",
        "outputId": "55a28f49-b318-46af-b62f-f0f9b427df7e"
      },
      "source": [
        "# Remove all duplicated rows\n",
        "data = data.drop_duplicates()\n",
        "data.shape"
      ],
      "execution_count": 124,
      "outputs": [
        {
          "output_type": "execute_result",
          "data": {
            "text/plain": [
              "(13543, 17)"
            ]
          },
          "metadata": {},
          "execution_count": 124
        }
      ]
    },
    {
      "cell_type": "code",
      "metadata": {
        "colab": {
          "base_uri": "https://localhost:8080/"
        },
        "id": "WilOJ8kV3pJI",
        "outputId": "2cb85041-732c-4c93-e54d-5f759402046c"
      },
      "source": [
        "# save the classes in y1 var\n",
        "y1=data[\"Class\"].value_counts()\n",
        "y1"
      ],
      "execution_count": 125,
      "outputs": [
        {
          "output_type": "execute_result",
          "data": {
            "text/plain": [
              "DERMASON    3546\n",
              "SIRA        2636\n",
              "SEKER       2027\n",
              "HOROZ       1860\n",
              "CALI        1630\n",
              "BARBUNYA    1322\n",
              "BOMBAY       522\n",
              "Name: Class, dtype: int64"
            ]
          },
          "metadata": {},
          "execution_count": 125
        }
      ]
    },
    {
      "cell_type": "code",
      "metadata": {
        "colab": {
          "base_uri": "https://localhost:8080/"
        },
        "id": "bSMRk3WAErx1",
        "outputId": "ea6e3125-0c67-4b65-b115-6c78ed975ad0"
      },
      "source": [
        "# Assign features to X and label for y\n",
        "X = data.drop(['Class'],axis=1)\n",
        "y = data.Class\n",
        "print('shape of X :' ,X.shape , \"\\n shape of y :\" , y.shape)\n"
      ],
      "execution_count": 126,
      "outputs": [
        {
          "output_type": "stream",
          "name": "stdout",
          "text": [
            "shape of X : (13543, 16) \n",
            " shape of y : (13543,)\n"
          ]
        }
      ]
    },
    {
      "cell_type": "code",
      "metadata": {
        "colab": {
          "base_uri": "https://localhost:8080/",
          "height": 436
        },
        "id": "4Bo9cG6qlPSd",
        "outputId": "ef07a9eb-d2bd-489e-a494-95c5f6926703"
      },
      "source": [
        "# Visulaze the CLasses\n",
        "import numpy as np\n",
        "# Creating dataset\n",
        "Class = ['DERMASON','SIRA' ,'SEKER' ,  'HOROZ','CALI','BARBUNYA','BOMBAY']\n",
        "  \n",
        "data = [23, 17, 35, 29, 12, 41]\n",
        "  \n",
        "  \n",
        "# Creating explode data\n",
        "explode = (0.1, 0.0, 0.2, 0.3, 0.0, 0.0,0.0)\n",
        "  \n",
        "# Creating color parameters\n",
        "colors = ( \"orange\", \"cyan\", \"brown\",\n",
        "          \"grey\", \"indigo\", \"beige\",\"Black\")\n",
        "  \n",
        "# Wedge properties\n",
        "wp = { 'linewidth' : 1, 'edgecolor' : \"green\" }\n",
        "  \n",
        "# Creating autocpt arguments\n",
        "def func(pct, allvalues):\n",
        "    absolute = int(pct / 100.*np.sum(allvalues))\n",
        "    return \"{:.1f}%\\n({:d})\".format(pct, absolute)\n",
        "  \n",
        "# Creating plot\n",
        "fig, ax = plt.subplots(figsize =(10, 7))\n",
        "wedges, texts, autotexts = ax.pie(y1, \n",
        "                                  autopct = lambda pct: func(pct, y1),\n",
        "                                  explode = explode, \n",
        "                                  labels = Class,\n",
        "                                  shadow = True,\n",
        "                                  colors = colors,\n",
        "                                  startangle = 90,\n",
        "                                  wedgeprops = wp,\n",
        "                                  textprops = dict(color =\"magenta\"))\n",
        "  \n",
        "# Adding legend\n",
        "ax.legend(wedges, Class,\n",
        "          title =\"Class\",\n",
        "          loc =\"center left\",\n",
        "          bbox_to_anchor =(1, 0, 0.5, 1))\n",
        "  \n",
        "plt.setp(autotexts, size = 8, weight =\"bold\")\n",
        "ax.set_title(\"Customizing pie chart\")\n",
        "  \n",
        "# show plot\n",
        "plt.show()"
      ],
      "execution_count": 127,
      "outputs": [
        {
          "output_type": "display_data",
          "data": {
            "image/png": "[encoded data removed]",
            "text/plain": [
              "<Figure size 720x504 with 1 Axes>"
            ]
          },
          "metadata": {}
        }
      ]
    },
    {
      "cell_type": "markdown",
      "metadata": {
        "id": "zTGuG5G7LLyL"
      },
      "source": [
        "**Now we have Balanced dataset**"
      ]
    },
    {
      "cell_type": "code",
      "metadata": {
        "colab": {
          "base_uri": "https://localhost:8080/"
        },
        "id": "96pupT0tSBBX",
        "outputId": "a0040823-2aab-4145-f716-31e7bab49379"
      },
      "source": [
        "print(X.head(),\"\\n\",X.shape)"
      ],
      "execution_count": 128,
      "outputs": [
        {
          "output_type": "stream",
          "name": "stdout",
          "text": [
            "    Area  Perimeter  MajorAxisLength  ...  ShapeFactor2  ShapeFactor3  ShapeFactor4\n",
            "0  28395    610.291       208.178117  ...      0.003147      0.834222      0.998724\n",
            "1  28734    638.018       200.524796  ...      0.003564      0.909851      0.998430\n",
            "2  29380    624.110       212.826130  ...      0.003048      0.825871      0.999066\n",
            "3  30008    645.884       210.557999  ...      0.003215      0.861794      0.994199\n",
            "4  30140    620.134       201.847882  ...      0.003665      0.941900      0.999166\n",
            "\n",
            "[5 rows x 16 columns] \n",
            " (13543, 16)\n"
          ]
        }
      ]
    },
    {
      "cell_type": "code",
      "metadata": {
        "colab": {
          "base_uri": "https://localhost:8080/"
        },
        "id": "AhMheNvjcMGN",
        "outputId": "a8e6b149-1fab-4674-ac81-52d4d4643b0d"
      },
      "source": [
        "from sklearn.preprocessing import LabelEncoder\n",
        "# creating instance of labelencoder to change classes name to numbers\n",
        "labelencoder = LabelEncoder()\n",
        "y['Class_L'] = labelencoder.fit_transform(y)\n",
        "\n",
        "y.Class_L"
      ],
      "execution_count": 130,
      "outputs": [
        {
          "output_type": "stream",
          "name": "stderr",
          "text": [
            "/usr/local/lib/python3.7/dist-packages/pandas/core/indexing.py:670: SettingWithCopyWarning: \n",
            "A value is trying to be set on a copy of a slice from a DataFrame\n",
            "\n",
            "See the caveats in the documentation: https://pandas.pydata.org/pandas-docs/stable/user_guide/indexing.html#returning-a-view-versus-a-copy\n",
            "  iloc._setitem_with_indexer(indexer, value)\n",
            "/usr/local/lib/python3.7/dist-packages/IPython/core/interactiveshell.py:2882: SettingWithCopyWarning: \n",
            "A value is trying to be set on a copy of a slice from a DataFrame\n",
            "\n",
            "See the caveats in the documentation: https://pandas.pydata.org/pandas-docs/stable/user_guide/indexing.html#returning-a-view-versus-a-copy\n",
            "  exec(code_obj, self.user_global_ns, self.user_ns)\n"
          ]
        },
        {
          "output_type": "execute_result",
          "data": {
            "text/plain": [
              "array([5, 5, 5, ..., 3, 3, 3])"
            ]
          },
          "metadata": {},
          "execution_count": 130
        }
      ]
    },
    {
      "cell_type": "code",
      "metadata": {
        "colab": {
          "base_uri": "https://localhost:8080/"
        },
        "id": "hm6MUsmQUat3",
        "outputId": "48d35a8e-5a07-45d6-d48d-401db0339cbb"
      },
      "source": [
        "# Split the data int train and test\n",
        "from sklearn.model_selection import train_test_split\n",
        "X_train, X_test, y_train, y_test = train_test_split(X, y.Class_L, test_size=0.3, random_state=42)\n",
        "print(len(X_train), len(X_test), len(y_train), len(y_test))"
      ],
      "execution_count": 131,
      "outputs": [
        {
          "output_type": "stream",
          "name": "stdout",
          "text": [
            "9480 4063 9480 4063\n"
          ]
        }
      ]
    },
    {
      "cell_type": "code",
      "metadata": {
        "colab": {
          "base_uri": "https://localhost:8080/"
        },
        "id": "jN9doEITa-N4",
        "outputId": "f07c89c3-d016-42aa-bd8b-ef31e3def279"
      },
      "source": [
        "# Random Forest imported \n",
        "from sklearn.ensemble import RandomForestClassifier\n",
        "model = RandomForestClassifier(n_estimators=5,random_state=0)\n",
        "model.fit(X_train,y_train)\n",
        "print(model.score(X_test,y_test))"
      ],
      "execution_count": 132,
      "outputs": [
        {
          "output_type": "stream",
          "name": "stdout",
          "text": [
            "0.9141028796455821\n"
          ]
        }
      ]
    },
    {
      "cell_type": "code",
      "metadata": {
        "id": "iKV18AkbkTXp"
      },
      "source": [
        "# Draw the Tree of Random Forest\n",
        "from sklearn.tree import export_graphviz\n",
        "import pydot\n",
        "# Pull out one tree from the forest\n",
        "tree = model.estimators_[3]\n",
        "# Import tools needed for visualization\n",
        "from sklearn.tree import export_graphviz\n",
        "import pydot\n",
        "# Pull out one tree from the forest\n",
        "tree = model.estimators_[3]\n",
        "# Export the image to a dot file\n",
        "feature_list = ['Area', 'Perimeter', 'MajorAxisLength', 'MinorAxisLength',\n",
        "       'AspectRation', 'Eccentricity', 'ConvexArea', 'EquivDiameter', 'Extent',\n",
        "       'Solidity', 'roundness', 'Compactness', 'ShapeFactor1', 'ShapeFactor2',\n",
        "       'ShapeFactor3', 'ShapeFactor4']\n",
        "export_graphviz(tree, out_file = 'tree.dot', feature_names = feature_list, rounded = True, precision = 1)\n"
      ],
      "execution_count": 135,
      "outputs": []
    },
    {
      "cell_type": "code",
      "metadata": {
        "id": "chWZjMi7k1Hr"
      },
      "source": [
        "# Use dot file to create a graph\n",
        "(graph, ) = pydot.graph_from_dot_file('tree.dot')\n",
        "# Write graph to a png file\n",
        "graph.write_png('tree.png')"
      ],
      "execution_count": 136,
      "outputs": []
    },
    {
      "cell_type": "code",
      "metadata": {
        "id": "8dAw6xSGekPD"
      },
      "source": [
        "# test the Model\n",
        "y_predicted = model.predict(X_test)"
      ],
      "execution_count": 137,
      "outputs": []
    },
    {
      "cell_type": "code",
      "metadata": {
        "colab": {
          "base_uri": "https://localhost:8080/"
        },
        "id": "S8WCoV6UmI47",
        "outputId": "764bee31-3b03-472f-c841-c592c5c66cd1"
      },
      "source": [
        "# Calculate MAE - MSE - RMSE\n",
        "from sklearn import metrics\n",
        "import numpy as np\n",
        "print('Mean Absolute Error:', metrics.mean_absolute_error(y_test, y_predicted))\n",
        "print('Mean Squared Error:', metrics.mean_squared_error(y_test, y_predicted))\n",
        "print('Root Mean Squared Error:', np.sqrt(metrics.mean_squared_error(y_test, y_predicted)))"
      ],
      "execution_count": 138,
      "outputs": [
        {
          "output_type": "stream",
          "name": "stdout",
          "text": [
            "Mean Absolute Error: 0.22594142259414227\n",
            "Mean Squared Error: 0.702928870292887\n",
            "Root Mean Squared Error: 0.8384085342438297\n"
          ]
        }
      ]
    },
    {
      "cell_type": "code",
      "metadata": {
        "colab": {
          "base_uri": "https://localhost:8080/"
        },
        "id": "pRbLPUevmeqt",
        "outputId": "45c9c80e-ed8a-4f7d-ac57-0c9c6c443e65"
      },
      "source": [
        "# Calculate the confusion_matrix - precision  -  recall - f1-score\n",
        "from sklearn.metrics import classification_report, confusion_matrix, accuracy_score\n",
        "\n",
        "print(confusion_matrix(y_test,y_predicted))\n",
        "print(classification_report(y_test,y_predicted))\n",
        "print(accuracy_score(y_test, y_predicted))"
      ],
      "execution_count": 139,
      "outputs": [
        {
          "output_type": "stream",
          "name": "stdout",
          "text": [
            "[[354   0  28   0   1   5   8]\n",
            " [  0 161   0   0   0   0   0]\n",
            " [ 23   0 436   0  10   1   3]\n",
            " [  1   0   0 989   0  17  58]\n",
            " [  5   0   4   7 525   0  12]\n",
            " [  4   0   1  18   0 578  17]\n",
            " [  9   0   3  79  20  15 671]]\n",
            "              precision    recall  f1-score   support\n",
            "\n",
            "           0       0.89      0.89      0.89       396\n",
            "           1       1.00      1.00      1.00       161\n",
            "           2       0.92      0.92      0.92       473\n",
            "           3       0.90      0.93      0.92      1065\n",
            "           4       0.94      0.95      0.95       553\n",
            "           5       0.94      0.94      0.94       618\n",
            "           6       0.87      0.84      0.86       797\n",
            "\n",
            "    accuracy                           0.91      4063\n",
            "   macro avg       0.93      0.92      0.92      4063\n",
            "weighted avg       0.91      0.91      0.91      4063\n",
            "\n",
            "0.9141028796455821\n"
          ]
        }
      ]
    },
    {
      "cell_type": "code",
      "metadata": {
        "colab": {
          "base_uri": "https://localhost:8080/",
          "height": 514
        },
        "id": "Z6fjFOpthI8C",
        "outputId": "2e73d365-0dcd-4499-9f7a-057b8d801807"
      },
      "source": [
        "# Visulazie confusion_matrix in plot\n",
        "from sklearn.metrics import confusion_matrix\n",
        "import matplotlib.pyplot as plt\n",
        "import seaborn as sn\n",
        "cm = confusion_matrix(y_test,y_predicted)\n",
        "plt.figure(figsize=(10,8))\n",
        "sn.heatmap(cm,annot=True)\n",
        "plt.xlabel(\"pre\")\n",
        "plt.ylabel(\"Truth\")"
      ],
      "execution_count": 140,
      "outputs": [
        {
          "output_type": "execute_result",
          "data": {
            "text/plain": [
              "Text(69.0, 0.5, 'Truth')"
            ]
          },
          "metadata": {},
          "execution_count": 140
        },
        {
          "output_type": "display_data",
          "data": {
            "image/png": "[encoded data removed]",
            "text/plain": [
              "<Figure size 720x576 with 2 Axes>"
            ]
          },
          "metadata": {
            "needs_background": "light"
          }
        }
      ]
    }
  ]
}